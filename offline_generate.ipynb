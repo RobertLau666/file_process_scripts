{
 "cells": [
  {
   "cell_type": "code",
   "execution_count": 5,
   "metadata": {},
   "outputs": [
    {
     "name": "stdout",
     "output_type": "stream",
     "text": [
      "文件名: data/file/\n",
      "扩展名: \n",
      "NULL\n"
     ]
    }
   ],
   "source": [
    "import os\n",
    "\n",
    "# file = '1.txt'\n",
    "file = 'data/file/'\n",
    "file_name, file_extension = os.path.splitext(file)\n",
    "print(\"文件名:\", file_name)\n",
    "print(\"扩展名:\", file_extension)\n",
    "if file_extension == \"\":\n",
    "    print('NULL')"
   ]
  },
  {
   "cell_type": "code",
   "execution_count": 3,
   "metadata": {},
   "outputs": [
    {
     "name": "stderr",
     "output_type": "stream",
     "text": [
      "100%|██████████| 4/4 [00:00<00:00, 23464.64it/s]"
     ]
    },
    {
     "name": "stdout",
     "output_type": "stream",
     "text": [
      "selected_card_type 0 3\n",
      "selected_card_type 1 3\n",
      "selected_card_type 2 3\n",
      "selected_card_type 3 3\n",
      "Counter({'3': 4})\n"
     ]
    },
    {
     "name": "stderr",
     "output_type": "stream",
     "text": [
      "\n"
     ]
    }
   ],
   "source": [
    "from tqdm import tqdm\n",
    "from collections import Counter\n",
    "\n",
    "def select_card_type(num_id, generate_num, card_types, card_type_weights):\n",
    "    for i in range(len(card_types)):\n",
    "        start_number = int(generate_num * sum(card_type_weights[:i]))\n",
    "        end_number = int(generate_num * sum(card_type_weights[:i+1]))\n",
    "        # print(f\"start_number: {start_number}\\nend_number: {end_number}\")\n",
    "        if num_id in list(range(start_number, end_number)):\n",
    "            return card_types[i]\n",
    "\n",
    "generate_num = 4\n",
    "card_types = [\"\", \"1\", \"2\", \"3\"]\n",
    "card_type_weights = [0.0, 0.0, 0.0, 1.0] # [0.0, 0.34, 0.34, 0.33]\n",
    "selected_card_type_list = []\n",
    "    \n",
    "for num_id in tqdm(range(generate_num)):\n",
    "    selected_card_type = select_card_type(num_id, generate_num, card_types, card_type_weights)\n",
    "    print(\"selected_card_type\", num_id, selected_card_type)\n",
    "    selected_card_type_list.append(selected_card_type)\n",
    "\n",
    "count_dict = Counter(selected_card_type_list)\n",
    "print(count_dict)"
   ]
  },
  {
   "cell_type": "code",
   "execution_count": 46,
   "metadata": {},
   "outputs": [
    {
     "ename": "FileNotFoundError",
     "evalue": "[Errno 2] No such file or directory: '/dfs/comicai/chenyu.liu/ugc_generate_sample/output_offline_card_NPC/11680'",
     "output_type": "error",
     "traceback": [
      "\u001b[0;31m---------------------------------------------------------------------------\u001b[0m",
      "\u001b[0;31mFileNotFoundError\u001b[0m                         Traceback (most recent call last)",
      "Cell \u001b[0;32mIn[46], line 8\u001b[0m\n\u001b[1;32m      1\u001b[0m \u001b[38;5;28;01mimport\u001b[39;00m \u001b[38;5;21;01mos\u001b[39;00m\n\u001b[1;32m      3\u001b[0m card_type_dict \u001b[38;5;241m=\u001b[39m {\n\u001b[1;32m      4\u001b[0m     \u001b[38;5;124m\"\u001b[39m\u001b[38;5;124m梦境卡\u001b[39m\u001b[38;5;124m\"\u001b[39m: [\u001b[38;5;241m0\u001b[39m, \u001b[38;5;241m115\u001b[39m],\n\u001b[1;32m      5\u001b[0m     \u001b[38;5;124m\"\u001b[39m\u001b[38;5;124m事件卡\u001b[39m\u001b[38;5;124m\"\u001b[39m: [\u001b[38;5;241m115\u001b[39m, \u001b[38;5;241m184\u001b[39m],\n\u001b[1;32m      6\u001b[0m     \u001b[38;5;124m\"\u001b[39m\u001b[38;5;124m心动卡\u001b[39m\u001b[38;5;124m\"\u001b[39m: [\u001b[38;5;241m184\u001b[39m, \u001b[38;5;241m230\u001b[39m]\n\u001b[1;32m      7\u001b[0m }\n\u001b[0;32m----> 8\u001b[0m folder_nums \u001b[38;5;241m=\u001b[39m \u001b[43mos\u001b[49m\u001b[38;5;241;43m.\u001b[39;49m\u001b[43mlistdir\u001b[49m\u001b[43m(\u001b[49m\u001b[38;5;124;43m\"\u001b[39;49m\u001b[38;5;124;43m/dfs/comicai/chenyu.liu/ugc_generate_sample/output_offline_card_NPC/11680\u001b[39;49m\u001b[38;5;124;43m\"\u001b[39;49m\u001b[43m)\u001b[49m\n\u001b[1;32m     10\u001b[0m \u001b[38;5;66;03m# folder_nums = sorted([folder_num for folder_num in folder_nums if folder_num.split('.')[-1] not in ['json']])\u001b[39;00m\n\u001b[1;32m     12\u001b[0m folder_nums \u001b[38;5;241m=\u001b[39m \u001b[38;5;28msorted\u001b[39m([folder_num\u001b[38;5;241m.\u001b[39mzfill(\u001b[38;5;241m4\u001b[39m) \u001b[38;5;28;01mfor\u001b[39;00m folder_num \u001b[38;5;129;01min\u001b[39;00m folder_nums \u001b[38;5;28;01mif\u001b[39;00m folder_num\u001b[38;5;241m.\u001b[39msplit(\u001b[38;5;124m'\u001b[39m\u001b[38;5;124m.\u001b[39m\u001b[38;5;124m'\u001b[39m)[\u001b[38;5;241m-\u001b[39m\u001b[38;5;241m1\u001b[39m] \u001b[38;5;129;01mnot\u001b[39;00m \u001b[38;5;129;01min\u001b[39;00m [\u001b[38;5;124m'\u001b[39m\u001b[38;5;124mjson\u001b[39m\u001b[38;5;124m'\u001b[39m]])\n",
      "\u001b[0;31mFileNotFoundError\u001b[0m: [Errno 2] No such file or directory: '/dfs/comicai/chenyu.liu/ugc_generate_sample/output_offline_card_NPC/11680'"
     ]
    }
   ],
   "source": [
    "import os\n",
    "\n",
    "card_type_dict = {\n",
    "    \"梦境卡\": [0, 115],\n",
    "    \"事件卡\": [115, 184],\n",
    "    \"心动卡\": [184, 230]\n",
    "}\n",
    "folder_nums = os.listdir(\"/dfs/comicai/chenyu.liu/ugc_generate_sample/output_offline_card_NPC/11680\")\n",
    "\n",
    "# folder_nums = sorted([folder_num for folder_num in folder_nums if folder_num.split('.')[-1] not in ['json']])\n",
    "\n",
    "folder_nums = sorted([folder_num.zfill(4) for folder_num in folder_nums if folder_num.split('.')[-1] not in ['json']])\n",
    "folder_nums = [folder_num.lstrip('0') for folder_num in folder_nums]\n",
    "folder_nums = ['0' if folder_num == '' else folder_num for folder_num in folder_nums]\n",
    "\n",
    "for folder_num in folder_nums:\n",
    "    folder_num_int = int(folder_num)\n",
    "    for k, v in card_type_dict.items():\n",
    "        if folder_num_int in range(v[0], v[1]):\n",
    "            card_type = k\n",
    "            print(\"folder_num, card_type: \", ' '.join([folder_num, card_type]))\n",
    "        \n",
    "print(\"folder_nums: \", folder_nums)\n"
   ]
  },
  {
   "cell_type": "code",
   "execution_count": 30,
   "metadata": {},
   "outputs": [
    {
     "name": "stdout",
     "output_type": "stream",
     "text": [
      "[1, 4, '', 1, 1, 2, '', '', 2, '']\n"
     ]
    }
   ],
   "source": [
    "import random\n",
    "\n",
    "def weighted_random_choice(a, b, weight_a):\n",
    "    total_weight = weight_a + len(b)  # 总权重为a中元素的权重加上b的长度\n",
    "\n",
    "    # 生成一个随机数，用于确定选择a还是b\n",
    "    random_value = random.uniform(0, total_weight)\n",
    "\n",
    "    if random_value < weight_a:\n",
    "        # 选择a中的元素\n",
    "        index = random.randint(0, len(a) - 1)\n",
    "        return a[index]\n",
    "    else:\n",
    "        # 选择b中的元素\n",
    "        index = random.randint(0, len(b) - 1)\n",
    "        return b[index]\n",
    "\n",
    "# 示例用法\n",
    "a = ['']\n",
    "# b = ['a', 'b', 'c']\n",
    "b = [1, 2, 3, 4]\n",
    "\n",
    "# a = [\"big boobs\", \"busty\", \"maid costume\", \"open shirt\", \"oversized shirt\", \"bath towel\", \"bikini armor\", \"bikini\", \"bra\", \"only underwear\", \"panties\", \"swimsuit\", \"school swimsuit\"]\n",
    "# b = [\"american flag dress\", \"apron\", \"armor\", \"backless outfit\", \"bathrobe\", \"bodystocking\", \"bodysuit\", \"business suit\", \"china dress\", \"cloak\", \"corset\", \"crop top\", \"dress shirt\", \"dress\", \"fast food shop clothes\", \"gothic lolita\", \"gym clothes bloomer\", \"gym suit\", \"halloween costume\", \"hoodie\", \"japanese clothes\", \"kunoichi\", \"kneehighs\", \"kimono\", \"leggings\", \"leotard\", \"maid costume\", \"military uniform\", \"nightgown\", \"nurse\", \"hanfu\", \"oiran\", \"one-piece swimsuit\", \"only underwear\", \"pantyhose\", \"panties\", \"pirates\", \"playboy bunny\", \"police\", \"princess dress\", \"santa costume\", \"school swimsuit\", \"school uniform\", \"sleeveless dress\", \"sleeveless shirt\", \"sleeveless t-shirt\", \"socks\", \"sportswear\", \"sweater\", \"swimsuit\", \"t-shirt\", \"tank top\", \"teacher\", \"thighhighs\", \"wedding dress\", \"wizard clothes\", \"yoga pants\", \"yukata\", \"Classic white shirtdress\", \"white pencil_dress\", \"Vintage 1920s flapper dress with fringe and beaded embellishments\", \"Fairy tale princess gown with delicate lace and sparkly gems\", \"A black lace crop top with a high-waisted white midi skirt\", \"halter neck dress\", \"blazer dress\", \"A glittering gold mini dress with a off-the-shoulder top\", \"A black and gold sequin mini dress\", \"A black satin slip dress\", \"A sleek black turtleneck dress\", \"Boho-chic maxi skirt with prints\", \"white lace dress with a scalloped hem\", \"mini skirt with a ruffled hem paired with a simple white t-shirt\", \"Embellished Strapless Ball Gown with Sparkling Crystals\", \"Pastel Tulle Skirt\", \"Tutu dress\", \"Peplum Dress\"]\n",
    "\n",
    "weight_a = 5  # 设置a中元素的权重为2\n",
    "\n",
    "results = []\n",
    "for i in range(10):\n",
    "    result = weighted_random_choice(a, b, weight_a)\n",
    "    results.append(result)\n",
    "print(results)\n"
   ]
  },
  {
   "cell_type": "code",
   "execution_count": 23,
   "metadata": {},
   "outputs": [
    {
     "name": "stdout",
     "output_type": "stream",
     "text": [
      "words:  ['sensitive', '1girl', 'solo', 'long_hair', 'breasts', 'looking_at_viewer', 'open_mouth', 'bangs', 'blue_eyes', 'skirt', 'large_breasts', 'shirt', 'black_hair', 'hair_between_eyes', 'sitting', 'underwear', 'collarbone', 'white_shirt', 'short_sleeves', 'pleated_skirt', 'outdoors', 'teeth', 'tongue', 'tongue_out', 'black_skirt', 'bra', 'mole', 'wet', 'see', 'through', 'mole_under_eye', 'upper_teeth_only', 'building', 'wet_clothes', 'rain', 'shirt_tucked_in', 'wet_shirt', 'wet_hair', 'blue_bra', 'bra_visible_through_clothes', 'bralines']\n",
      "face_words:  long_hair, open_mouth, bangs, blue_eyes, black_hair, hair_between_eyes, teeth, tongue, tongue_out, mole_under_eye, upper_teeth_only, wet_hair\n"
     ]
    }
   ],
   "source": [
    "import re\n",
    "\n",
    "def reserve_face_words(original_text):\n",
    "    face_words_dict = ['eye', 'hair', 'mouth', 'bangs', 'teeth', 'tongue', 'tongue_out']\n",
    "    face_words = []\n",
    "    words = re.findall(r'\\w+', original_text)\n",
    "    print(\"words: \", words)\n",
    "    def check_list_for_string(my_list, string):\n",
    "        for pattern in my_list:\n",
    "            if re.search(pattern, string, re.IGNORECASE):\n",
    "                return True\n",
    "        return False\n",
    "    for word in words:\n",
    "        if check_list_for_string(face_words_dict, word):\n",
    "            face_words.append(word)\n",
    "    face_words = ', '.join(face_words)\n",
    "    return face_words\n",
    "\n",
    "feat = \"sensitive,1girl,solo,long_hair,breasts,looking_at_viewer,open_mouth,bangs,blue_eyes,skirt,large_breasts,shirt,black_hair,hair_between_eyes,sitting,underwear,collarbone,white_shirt,short_sleeves,pleated_skirt,outdoors,teeth,tongue,tongue_out,black_skirt,bra,mole,wet,see-through,mole_under_eye,upper_teeth_only,building,wet_clothes,rain,shirt_tucked_in,wet_shirt,wet_hair,blue_bra,bra_visible_through_clothes,bralines\"\n",
    "face_words = reserve_face_words(feat)\n",
    "print(\"face_words: \", face_words)"
   ]
  },
  {
   "cell_type": "code",
   "execution_count": 1,
   "metadata": {},
   "outputs": [
    {
     "name": "stdout",
     "output_type": "stream",
     "text": [
      "['prefix_1_suffix', 'prefix_2_suffix', 'prefix_3_suffix', 'prefix_4_suffix']\n"
     ]
    }
   ],
   "source": [
    "original_array = [1, 2, 3, 4]\n",
    "prefix = \"prefix_\"\n",
    "suffix = \"_suffix\"\n",
    "\n",
    "modified_array = [f\"{prefix}{item}{suffix}\" for item in original_array]\n",
    "\n",
    "print(modified_array)\n"
   ]
  },
  {
   "cell_type": "code",
   "execution_count": 1,
   "metadata": {},
   "outputs": [
    {
     "name": "stdout",
     "output_type": "stream",
     "text": [
      "1/2/3/4 .jpg\n"
     ]
    }
   ],
   "source": [
    "import os\n",
    "\n",
    "test_image_dir_file = '1/2/3/4.jpg'\n",
    "file_name, file_extension = os.path.splitext(test_image_dir_file)\n",
    "print(file_name, file_extension)"
   ]
  },
  {
   "cell_type": "code",
   "execution_count": 4,
   "metadata": {},
   "outputs": [
    {
     "name": "stdout",
     "output_type": "stream",
     "text": [
      "root, dirs, files /dfs/comicai/chenyu.liu/others/output_offline_card_NPC_test_show_images ['11680', '10003'] []\n",
      "root, dirs, files /dfs/comicai/chenyu.liu/others/output_offline_card_NPC_test_show_images/11680 ['1', '0'] []\n",
      "root, dirs, files /dfs/comicai/chenyu.liu/others/output_offline_card_NPC_test_show_images/11680/1 [] ['11680_1_1.png', '11680_1_2.png', '11680_1_3.png', '11680_1_0.png']\n",
      "root, dirs, files /dfs/comicai/chenyu.liu/others/output_offline_card_NPC_test_show_images/11680/0 [] ['11680_0_3.png', '11680_0_2.png', '11680_0_1.png', '11680_0_0.png']\n",
      "root, dirs, files /dfs/comicai/chenyu.liu/others/output_offline_card_NPC_test_show_images/10003 ['1', '0'] []\n",
      "root, dirs, files /dfs/comicai/chenyu.liu/others/output_offline_card_NPC_test_show_images/10003/1 [] ['10003_1_1.png', '10003_1_0.png', '10003_1_3.png', '10003_1_2.png']\n",
      "root, dirs, files /dfs/comicai/chenyu.liu/others/output_offline_card_NPC_test_show_images/10003/0 [] ['10003_0_0.png', '10003_0_2.png', '10003_0_3.png', '10003_0_1.png']\n",
      "/dfs/comicai/chenyu.liu/others/output_offline_card_NPC_test_show_images/10003/0/10003_0_0.png\n",
      "/dfs/comicai/chenyu.liu/others/output_offline_card_NPC_test_show_images/10003/0/10003_0_1.png\n",
      "/dfs/comicai/chenyu.liu/others/output_offline_card_NPC_test_show_images/10003/0/10003_0_2.png\n",
      "/dfs/comicai/chenyu.liu/others/output_offline_card_NPC_test_show_images/10003/0/10003_0_3.png\n",
      "/dfs/comicai/chenyu.liu/others/output_offline_card_NPC_test_show_images/10003/1/10003_1_0.png\n",
      "/dfs/comicai/chenyu.liu/others/output_offline_card_NPC_test_show_images/10003/1/10003_1_1.png\n",
      "/dfs/comicai/chenyu.liu/others/output_offline_card_NPC_test_show_images/10003/1/10003_1_2.png\n",
      "/dfs/comicai/chenyu.liu/others/output_offline_card_NPC_test_show_images/10003/1/10003_1_3.png\n",
      "/dfs/comicai/chenyu.liu/others/output_offline_card_NPC_test_show_images/11680/0/11680_0_0.png\n",
      "/dfs/comicai/chenyu.liu/others/output_offline_card_NPC_test_show_images/11680/0/11680_0_1.png\n",
      "/dfs/comicai/chenyu.liu/others/output_offline_card_NPC_test_show_images/11680/0/11680_0_2.png\n",
      "/dfs/comicai/chenyu.liu/others/output_offline_card_NPC_test_show_images/11680/0/11680_0_3.png\n",
      "/dfs/comicai/chenyu.liu/others/output_offline_card_NPC_test_show_images/11680/1/11680_1_0.png\n",
      "/dfs/comicai/chenyu.liu/others/output_offline_card_NPC_test_show_images/11680/1/11680_1_1.png\n",
      "/dfs/comicai/chenyu.liu/others/output_offline_card_NPC_test_show_images/11680/1/11680_1_2.png\n",
      "/dfs/comicai/chenyu.liu/others/output_offline_card_NPC_test_show_images/11680/1/11680_1_3.png\n"
     ]
    }
   ],
   "source": [
    "import os\n",
    "\n",
    "def list_files(directory):\n",
    "    all_files = []\n",
    "    for root, dirs, files in os.walk(directory):\n",
    "        for file in files:\n",
    "            file_path = os.path.join(root, file)\n",
    "            all_files.append(file_path)\n",
    "    return sorted(all_files)\n",
    "\n",
    "# 替换 'your_directory_path' 为你的文件夹路径\n",
    "directory_path = '/dfs/comicai/chenyu.liu/others/output_offline_card_NPC_test_show_images'\n",
    "file_paths = list_files(directory_path)\n",
    "\n",
    "for file_path in file_paths:\n",
    "    print(file_path)\n"
   ]
  },
  {
   "cell_type": "code",
   "execution_count": null,
   "metadata": {},
   "outputs": [
    {
     "ename": "",
     "evalue": "",
     "output_type": "error",
     "traceback": [
      "\u001b[1;31m无法启动 Kernel。 \n",
      "\u001b[1;31m由于等待端口使用超时，无法启动内核 \"comic (Python 3.8.18)\"。 \n",
      "\u001b[1;31m查看 Jupyter <a href='command:jupyter.viewOutput'>log</a>，了解更多详细信息。"
     ]
    }
   ],
   "source": [
    "import os\n",
    "\n",
    "folder_nums = os.listdir(\"/dfs/comicai/chenyu.liu/ugc_generate_sample/output_offline_card_NPC/11680\")\n",
    "folder_nums = sorted([folder_num for folder_num in folder_nums if folder_num.split('.')[-1] not in ['json']])\n",
    "\n",
    "print(\"folder_nums: \", folder_nums)\n"
   ]
  },
  {
   "cell_type": "code",
   "execution_count": 1,
   "metadata": {},
   "outputs": [
    {
     "name": "stdout",
     "output_type": "stream",
     "text": [
      "1\n"
     ]
    }
   ],
   "source": [
    "print(\"1\")"
   ]
  },
  {
   "cell_type": "code",
   "execution_count": 6,
   "metadata": {},
   "outputs": [
    {
     "name": "stdout",
     "output_type": "stream",
     "text": [
      "test_image_paths:  ['/dfs/comicai/chenyu.liu/others/aisocial_/as-loki_', '/dfs/comicai/chenyu.liu/others/aisocial_/others_']\n"
     ]
    }
   ],
   "source": [
    "import os\n",
    "\n",
    "test_image_dir_file = \"aisocial_\"\n",
    "test_image_dir_file = \"/dfs/comicai/chenyu.liu/others/aisocial_\"\n",
    "\n",
    "test_image_paths = []\n",
    "if os.path.isdir(test_image_dir_file):\n",
    "    test_image_names = os.listdir(test_image_dir_file)\n",
    "    test_image_names = [test_image_name for test_image_name in test_image_names if test_image_name not in ['.ipynb_checkpoints']]\n",
    "    for test_image_name in test_image_names:\n",
    "        test_image_path = os.path.join(test_image_dir_file, test_image_name)\n",
    "        test_image_paths.append(test_image_path)\n",
    "print(\"test_image_paths: \", test_image_paths)"
   ]
  },
  {
   "cell_type": "code",
   "execution_count": 2,
   "metadata": {},
   "outputs": [],
   "source": [
    "# 导出bad case的prompt\n",
    "import os\n",
    "import json\n",
    "\n",
    "root_dir = \"/dfs/comicai/chenyu.liu/ugc_generate_sample/output_offline_card_NPC\"\n",
    "tag_json_path = '/dfs/comicai/chenyu.liu/others/show_url_imgs_gradio/configs/tag.json'\n",
    "with open(tag_json_path, 'r') as f:\n",
    "    tag_json = json.load(f)\n",
    "\n",
    "for key, value in tag_json.items():\n",
    "    NPC_json_path = os.path.join(root_dir, key, f\"{key}.json\")\n",
    "    with open(NPC_json_path, 'r') as f:\n",
    "        NPC_json = json.load(f)\n",
    "\n",
    "    for k, v in value.items():\n",
    "        num = k.split('/')[-1]\n",
    "        if v[\"tag\"] == 1:\n",
    "            tag_json[key][k][\"prompts\"] = NPC_json[\"output_image_list\"][num][\"prompts\"]\n",
    "\n",
    "with open(f'tag_1_prompts.json', 'w', encoding='utf-8') as file:\n",
    "    file.write(json.dumps(tag_json, indent=4, ensure_ascii=False))"
   ]
  },
  {
   "cell_type": "code",
   "execution_count": 31,
   "metadata": {},
   "outputs": [
    {
     "name": "stdout",
     "output_type": "stream",
     "text": [
      "Chunk 0: 0-[1, 2, 3, 4]\n",
      "Chunk 1: 4-[5, 6, 7, 8]\n",
      "Chunk 2: 2-[9, 10, 11, 12]\n",
      "Chunk 3: 3-[13]\n",
      "GPU_ids_NPC_name_dict:  {'0': [1, 2, 3, 4], '4': [5, 6, 7, 8], '2': [9, 10, 11, 12], '3': [13]}\n"
     ]
    }
   ],
   "source": [
    "# my_list = [1, 2]\n",
    "my_list = [1, 2, 3, 4, 5, 6, 7, 8, 9, 10, 11, 12, 13]\n",
    "\n",
    "GPU_ids = ['0', '4', '2', '3']\n",
    "GPU_ids_length = len(GPU_ids)\n",
    "# 计算每个子列表的长度\n",
    "chunk_size = -(-len(my_list) // GPU_ids_length)  # 使用向上取整确保分为四份\n",
    "\n",
    "# 使用切片分割列表\n",
    "chunks = [my_list[i:i + chunk_size] for i in range(0, len(my_list), chunk_size)]\n",
    "\n",
    "# 补齐到四份，如果需要的话\n",
    "while len(chunks) < GPU_ids_length:\n",
    "    chunks.append([])\n",
    "\n",
    "GPU_ids_NPC_name_dict = {}\n",
    "# 输出结果\n",
    "for i, (GPU_id, chunk) in enumerate(zip(GPU_ids, chunks)):\n",
    "    print(f\"Chunk {i}: {GPU_id}-{chunk}\")\n",
    "    GPU_ids_NPC_name_dict[GPU_id] = chunk\n",
    "print(\"GPU_ids_NPC_name_dict: \", GPU_ids_NPC_name_dict)\n"
   ]
  },
  {
   "cell_type": "code",
   "execution_count": 5,
   "metadata": {},
   "outputs": [
    {
     "name": "stdout",
     "output_type": "stream",
     "text": [
      "chunk_size:  0\n"
     ]
    },
    {
     "ename": "ValueError",
     "evalue": "range() arg 3 must not be zero",
     "output_type": "error",
     "traceback": [
      "\u001b[0;31m---------------------------------------------------------------------------\u001b[0m",
      "\u001b[0;31mValueError\u001b[0m                                Traceback (most recent call last)",
      "Cell \u001b[0;32mIn[5], line 19\u001b[0m\n\u001b[1;32m     16\u001b[0m GPU_ids_num \u001b[38;5;241m=\u001b[39m \u001b[38;5;241m4\u001b[39m\n\u001b[1;32m     17\u001b[0m GPU_ids_num \u001b[38;5;241m=\u001b[39m \u001b[38;5;241m20\u001b[39m\n\u001b[0;32m---> 19\u001b[0m NPC_name_batch_list \u001b[38;5;241m=\u001b[39m \u001b[43mget_NPC_name_batch_list\u001b[49m\u001b[43m(\u001b[49m\u001b[43mNPC_name_list\u001b[49m\u001b[43m,\u001b[49m\u001b[43m \u001b[49m\u001b[43mGPU_ids_num\u001b[49m\u001b[43m)\u001b[49m\n\u001b[1;32m     20\u001b[0m \u001b[38;5;28mprint\u001b[39m(\u001b[38;5;124m\"\u001b[39m\u001b[38;5;124mNPC_name_batch_list: \u001b[39m\u001b[38;5;124m\"\u001b[39m, \u001b[38;5;28mlen\u001b[39m(NPC_name_batch_list), NPC_name_batch_list)\n",
      "Cell \u001b[0;32mIn[5], line 4\u001b[0m, in \u001b[0;36mget_NPC_name_batch_list\u001b[0;34m(NPC_name_list, GPU_ids_num)\u001b[0m\n\u001b[1;32m      2\u001b[0m chunk_size \u001b[38;5;241m=\u001b[39m \u001b[38;5;241m-\u001b[39m(\u001b[38;5;241m-\u001b[39m\u001b[38;5;28mlen\u001b[39m(NPC_name_list) \u001b[38;5;241m/\u001b[39m\u001b[38;5;241m/\u001b[39m GPU_ids_num)\n\u001b[1;32m      3\u001b[0m \u001b[38;5;28mprint\u001b[39m(\u001b[38;5;124m\"\u001b[39m\u001b[38;5;124mchunk_size: \u001b[39m\u001b[38;5;124m\"\u001b[39m, chunk_size)\n\u001b[0;32m----> 4\u001b[0m chunks \u001b[38;5;241m=\u001b[39m [NPC_name_list[i:i \u001b[38;5;241m+\u001b[39m chunk_size] \u001b[38;5;28;01mfor\u001b[39;00m i \u001b[38;5;129;01min\u001b[39;00m \u001b[38;5;28;43mrange\u001b[39;49m\u001b[43m(\u001b[49m\u001b[38;5;241;43m0\u001b[39;49m\u001b[43m,\u001b[49m\u001b[43m \u001b[49m\u001b[38;5;28;43mlen\u001b[39;49m\u001b[43m(\u001b[49m\u001b[43mNPC_name_list\u001b[49m\u001b[43m)\u001b[49m\u001b[43m,\u001b[49m\u001b[43m \u001b[49m\u001b[43mchunk_size\u001b[49m\u001b[43m)\u001b[49m]\n\u001b[1;32m      5\u001b[0m \u001b[38;5;28;01mwhile\u001b[39;00m \u001b[38;5;28mlen\u001b[39m(chunks) \u001b[38;5;241m<\u001b[39m GPU_ids_num:\n\u001b[1;32m      6\u001b[0m     chunks\u001b[38;5;241m.\u001b[39mappend([])\n",
      "\u001b[0;31mValueError\u001b[0m: range() arg 3 must not be zero"
     ]
    }
   ],
   "source": [
    "def get_NPC_name_batch_list(NPC_name_list, GPU_ids_num):\n",
    "    chunk_size = -(-len(NPC_name_list) // GPU_ids_num)\n",
    "    print(\"chunk_size: \", chunk_size)\n",
    "    chunks = [NPC_name_list[i:i + chunk_size] for i in range(0, len(NPC_name_list), chunk_size)]\n",
    "    while len(chunks) < GPU_ids_num:\n",
    "        chunks.append([])\n",
    "    NPC_name_batch_list = []\n",
    "    for i, NPC_name_batch in enumerate(chunks):\n",
    "        NPC_name_batch_list.append(NPC_name_batch)\n",
    "    return NPC_name_batch_list\n",
    "\n",
    "# NPC_name_list = ['10291.png', '10339.png', '10344.png', '10345.png', '10349.png', '10357.png', '10364.png', '10379.png', '10383.png', '10388.png', '10393.png', '10398.png', '10641.png', '10647.png', '10729.png', '11205.png', '11278.png', '11317.png', '12412.png', '12416.png', '12537.png']\n",
    "# NPC_name_list = [1, 2, 3, 4, 5, 6, 7, 8, 9, 10, 11, 12, 13]\n",
    "NPC_name_list = []\n",
    "\n",
    "GPU_ids_num = 4\n",
    "GPU_ids_num = 20\n",
    "\n",
    "NPC_name_batch_list = get_NPC_name_batch_list(NPC_name_list, GPU_ids_num)\n",
    "print(\"NPC_name_batch_list: \", len(NPC_name_batch_list), NPC_name_batch_list)"
   ]
  },
  {
   "cell_type": "code",
   "execution_count": 22,
   "metadata": {},
   "outputs": [
    {
     "name": "stdout",
     "output_type": "stream",
     "text": [
      "\"living room\", \"bedroom\", \"kitchen\", \"school\", \"office\", \"night club\", \"home\", \"party\", \"cafe\", \"gym\", \"bar\", \"prison\", \"hospital\", \"restaurant\", \"mall\", \"lab\", \"palace\", \"car\", \"train\", \"bus\", \"church\", \"dungeon\", \"hotel\", \"library\", \"military\", \"pet store\", \"pool\", \"stage\", \"temple\", \"alley\", \"auction\", \"studio\", \"tavern\", \"town\", \"urban\", \"warehouse\", \"wedding\", \"cinema\", \"theater\", \"dressing room\", \"fitting room\", \"meeting room\", \"subway\", \"ship\", \"concert\", \"forest\", \"beach\", \"city\", \"street\", \"zoo\", \"heaven\", \"park\", \"castle\", \"ocean\", \"village\", \"battlefield\", \"camp\", \"cave\", \"hell\", \"university\", \"abandoned building\", \"farm\", \"desert\", \"garden\", \"island\", \"mountain\", \"space\", \"candlelit dinner\", \"picnic in the park\", \"stargazing\", \"movie night\", \"karaoke\", \"roller coaster\", \"balloon ride\", \"skiing\", \"camping\", \"spa\", \"shopping\", \"museum\", \"aquarium\", \"honeymoon\"\n"
     ]
    }
   ],
   "source": [
    "# 读取txt中的每一行，连接起来\n",
    "\n",
    "tags_list = []\n",
    "with open('temp_files/tags_list.txt', 'r') as file:\n",
    "    for line in file:\n",
    "        tag = line.strip()\n",
    "        tags_list.append(f'\"{tag}\"')\n",
    "\n",
    "print(\", \".join(tags_list))"
   ]
  },
  {
   "cell_type": "code",
   "execution_count": 23,
   "metadata": {},
   "outputs": [
    {
     "name": "stdout",
     "output_type": "stream",
     "text": [
      "current_time 2024-01-29 08:33:12.332155\n"
     ]
    }
   ],
   "source": [
    "from datetime import datetime\n",
    "\n",
    "current_time = datetime.now()\n",
    "\n",
    "print(\"current_time\", current_time)"
   ]
  },
  {
   "cell_type": "code",
   "execution_count": 6,
   "metadata": {},
   "outputs": [
    {
     "name": "stderr",
     "output_type": "stream",
     "text": [
      "100%|██████████| 50/50 [02:50<00:00,  3.42s/it]\n"
     ]
    }
   ],
   "source": [
    "# conda activate comic\n",
    "import os\n",
    "from PIL import Image, ImageDraw\n",
    "import matplotlib.pyplot as plt\n",
    "import requests\n",
    "import glob\n",
    "from io import BytesIO\n",
    "import openpyxl\n",
    "from tqdm import tqdm\n",
    "import demoji\n",
    "import re\n",
    "\n",
    "def remove_emojis(text):\n",
    "    cleaned_text = demoji.replace(text, '')\n",
    "    return cleaned_text\n",
    "\n",
    "def keep_alphanumeric(text):\n",
    "    alphanumeric_pattern = re.compile(r'[\\W_]+', re.UNICODE)\n",
    "    text_alphanumeric = alphanumeric_pattern.sub(r'', text)\n",
    "    return text_alphanumeric\n",
    "\n",
    "def load_image(url):\n",
    "    try:\n",
    "        response = requests.get(url)\n",
    "    except:\n",
    "        return None\n",
    "    return Image.open(BytesIO(response.content)).convert(\"RGB\")\n",
    "\n",
    "image_root_path = \"/dfs/comicai/chenyu.liu/ugc_generate_sample/input_images/MGC_images_1\"\n",
    "if not os.path.exists(image_root_path):\n",
    "   os.makedirs(image_root_path, exist_ok=True)\n",
    "\n",
    "wb = openpyxl.load_workbook(\"/dfs/comicai/chenyu.liu/others/temp_files/待优化MGC图片清单+picture prompt.xlsx\")\n",
    "ws = wb[\"Sheet1\"]\n",
    "\n",
    "for r in tqdm(range(2,1918)):\n",
    "    id = ws.cell(row=r,column=1).value\n",
    "    online_image_URL = ws.cell(row=r,column=3).value\n",
    "    \n",
    "    id = str(id)\n",
    "\n",
    "    image_name = id\n",
    "\n",
    "    loaded_image = load_image(online_image_URL)\n",
    "    loaded_image.save(f\"{image_root_path}/{image_name}.png\")\n",
    "\n",
    "    # if r == 2:\n",
    "    #    break\n"
   ]
  },
  {
   "cell_type": "code",
   "execution_count": null,
   "metadata": {},
   "outputs": [
    {
     "ename": "",
     "evalue": "",
     "output_type": "error",
     "traceback": [
      "\u001b[1;31m无法启动 Kernel。 \n",
      "\u001b[1;31m由于等待端口使用超时，无法启动内核 \"anaconda3 (Python)\"。 \n",
      "\u001b[1;31m查看 Jupyter <a href='command:jupyter.viewOutput'>log</a>，了解更多详细信息。"
     ]
    }
   ],
   "source": [
    "print(1)"
   ]
  },
  {
   "cell_type": "code",
   "execution_count": null,
   "metadata": {},
   "outputs": [
    {
     "ename": "",
     "evalue": "",
     "output_type": "error",
     "traceback": [
      "\u001b[1;31m无法启动 Kernel。 \n",
      "\u001b[1;31m由于等待端口使用超时，无法启动内核 \"comic (Python 3.8.18)\"。 \n",
      "\u001b[1;31m查看 Jupyter <a href='command:jupyter.viewOutput'>log</a>，了解更多详细信息。"
     ]
    }
   ],
   "source": [
    "original_string = \"blue_eyes, brown_hair, hair_between_eyes, closed_mouth),cg, focus on face, looking at viewer\"\n",
    "substring_to_exclude = \"hair\"\n",
    "words = original_string.split(',')\n",
    "filtered_words = [word for word in words if substring_to_exclude not in word]\n",
    "result_string = ','.join(filtered_words)\n",
    "print(result_string)\n"
   ]
  },
  {
   "cell_type": "code",
   "execution_count": null,
   "metadata": {},
   "outputs": [
    {
     "ename": "",
     "evalue": "",
     "output_type": "error",
     "traceback": [
      "\u001b[1;31m无法启动 Kernel。 \n",
      "\u001b[1;31m由于等待端口使用超时，无法启动内核 \"fastcomposer (Python 3.8.18)\"。 \n",
      "\u001b[1;31m查看 Jupyter <a href='command:jupyter.viewOutput'>log</a>，了解更多详细信息。"
     ]
    }
   ],
   "source": [
    "a = \"detailed face+eyes+clothes,HDR,8K resolution,solo,1face,1head,((1girl:2),female,,(1girl:2),female, ponytail, black hair, light purple hair, silver hair, Waist_length_hair, Cat pose, dress shirt, living room,long_hair, blush, bangs, black_hair, animal_ears, hair_between_eyes, closed_mouth, green_eyes, white_hair, cat_ears, animal_ear_fluff, extra_ears),hyper-realistic details, official art, original, game concept art, cg original art, digital art, detailed face+eyes+clothes, dynamic pose, looking at viewer\"\n",
    "\n",
    "words = a.split(',')\n",
    "formatted_words = [word.strip().replace('_', ' ') for word in words]\n",
    "\n",
    "print(formatted_words)\n"
   ]
  },
  {
   "cell_type": "code",
   "execution_count": null,
   "metadata": {},
   "outputs": [
    {
     "ename": "",
     "evalue": "",
     "output_type": "error",
     "traceback": [
      "\u001b[1;31m运行具有“/dfs/comicai/chenyu.liu/anaconda3/envs/webui/bin/python”的单元格需要ipykernel包。\n",
      "\u001b[1;31m运行以下命令，将 \"ipykernel\" 安装到 Python 环境中。\n",
      "\u001b[1;31m命令: \"conda install -p /dfs/comicai/chenyu.liu/anaconda3/envs/webui ipykernel --update-deps --force-reinstall\""
     ]
    }
   ],
   "source": [
    "NPC_names_list = []\n",
    "with open('temp_files/NPC_names.txt', 'r') as file:\n",
    "    for line in file:\n",
    "        tag = line.strip()\n",
    "        NPC_names_list.append(tag)\n",
    "NPC_titles_list = sorted(NPC_names_list)\n",
    "\n",
    "print(\"NPC_names_list: \", NPC_names_list)"
   ]
  },
  {
   "cell_type": "code",
   "execution_count": 3,
   "metadata": {},
   "outputs": [
    {
     "name": "stdout",
     "output_type": "stream",
     "text": [
      "Character Info: {'character': {'id': 9939, 'user_id': 9288674231470298, 'sid': 146162, 'name': 'Lucy & Lucky', 'role_type': 15, 'gender': 2, 'avatar': 'https://staticai.linke.ai/as/chat/file/1697545733079/17decdc4e13536e25d44d65f23553568.jpeg', 'avatar_circle': 'https://staticai.linke.ai/as/chat/file/1697545733079/17decdc4e13536e25d44d65f23553568.jpeg', 'avatar_full': 'https://static.linke.ai/social/statics/avatar/female_full_2_default.png', 'avatar_dynamic_img': 'https://staticai.linke.ai/as/chat/image/1697313691000/d44edac2436eb1be28ea0a7b37fb412d.jpeg', 'personal_greeting': \"(You're jolted awake by the sound of a catfight) *Lucy and Lucky are at it again!*\", 'visibility': 1, 'created_on': 1697545733, 'introduction': \"Lucy, your custom-ordered tsundere catgirl, has warmed up to you. Recently, you rescued Lucky, an amnesiac catgirl, who's now attached to you. But Lucy's gotten possessive.\", 'has_avatar': True, 'state': 1}}\n"
     ]
    }
   ],
   "source": [
    "import requests\n",
    "\n",
    "def get_character_info(cid):\n",
    "    # Define the endpoint URL\n",
    "    url = \"https://api-internal-test.linke.ai/internal/character/info\"\n",
    "\n",
    "    # Parameters to be sent with the GET request\n",
    "    params = {\n",
    "        \"character_id\": cid\n",
    "    }\n",
    "\n",
    "    # Make the GET request\n",
    "    response = requests.get(url, params=params)\n",
    "\n",
    "    # print(\"response: \", response)\n",
    "    # print(\"data = response.json(): \", data = response.json())\n",
    "\n",
    "    # Check if the request was successful\n",
    "    if response.status_code == 200:\n",
    "        # Parse the JSON response\n",
    "        data = response.json()\n",
    "        # Print the character information\n",
    "        print(\"Character Info:\", data)\n",
    "    else:\n",
    "        # Print error message if the request failed\n",
    "        print(\"Failed to retrieve character info. Status code:\", response.status_code)\n",
    "\n",
    "# Example usage\n",
    "character_id = 9939  # Replace with the actual character_id you want to query\n",
    "get_character_info(character_id)"
   ]
  },
  {
   "cell_type": "code",
   "execution_count": null,
   "metadata": {},
   "outputs": [
    {
     "ename": "",
     "evalue": "",
     "output_type": "error",
     "traceback": [
      "\u001b[1;31m运行具有“/dfs/comicai/chenyu.liu/anaconda3/envs/webui/bin/python”的单元格需要ipykernel包。\n",
      "\u001b[1;31m运行以下命令，将 \"ipykernel\" 安装到 Python 环境中。\n",
      "\u001b[1;31m命令: \"conda install -p /dfs/comicai/chenyu.liu/anaconda3/envs/webui ipykernel --update-deps --force-reinstall\""
     ]
    }
   ],
   "source": [
    "import os\n",
    "path = \"/dfs/comicai/chenyu.liu/ugc_generate_sample/output_images/ugc_NPC_images\"\n",
    "# path = \"/dfs/comicai/chenyu.liu/ugc_generate_sample/output_images/MGC_images\"\n",
    "print(len(os.listdir(path)))"
   ]
  },
  {
   "cell_type": "code",
   "execution_count": 3,
   "metadata": {},
   "outputs": [
    {
     "name": "stdout",
     "output_type": "stream",
     "text": [
      "appointed_names:  ['23324.png', '23388.png', '23394.png', '23406.png', '23410.png', '23429.png', '23462.png', '23618.png', '23773.png', '24071.png', '9918.png']\n",
      "len(appointed_names):  11\n"
     ]
    }
   ],
   "source": [
    "import os\n",
    "import json\n",
    "\n",
    "dict_path = \"/dfs/comicai/chenyu.liu/ugc_generate_sample/configs/style_configs/MGC_images_style_dict.json\"\n",
    "output_path = \"/dfs/comicai/chenyu.liu/ugc_generate_sample/output_images/MGC_images\"\n",
    "with open(dict_path, 'r') as f:\n",
    "    data = json.load(f)\n",
    "all_names = data.keys()\n",
    "now_names = os.listdir(output_path)\n",
    "appointed_names = [f\"{all_name}.png\" for all_name in all_names if all_name not in now_names]\n",
    "\n",
    "print(\"appointed_names: \", appointed_names)\n",
    "print(\"len(appointed_names): \", len(appointed_names))\n"
   ]
  },
  {
   "cell_type": "code",
   "execution_count": null,
   "metadata": {},
   "outputs": [
    {
     "ename": "",
     "evalue": "",
     "output_type": "error",
     "traceback": [
      "\u001b[1;31m运行具有“/dfs/comicai/chenyu.liu/anaconda3/envs/webui/bin/python”的单元格需要ipykernel包。\n",
      "\u001b[1;31m运行以下命令，将 \"ipykernel\" 安装到 Python 环境中。\n",
      "\u001b[1;31m命令: \"conda install -p /dfs/comicai/chenyu.liu/anaconda3/envs/webui ipykernel --update-deps --force-reinstall\""
     ]
    }
   ],
   "source": [
    "all_img_names = []\n",
    "done_img_names = []\n",
    "now_img_names = []\n",
    "ready_img_names = []\n",
    "give_tag_nums = 60\n",
    "give_img_names = []\n",
    "\n",
    "path = \"/dfs/comicai/chenyu.liu/ugc_generate_sample/output_images/ugc_NPC_images\"\n",
    "now_img_names = os.listdir(path)\n",
    "print(\"now_img_names: \", now_img_names)\n",
    "for now_img_name in now_img_names:\n",
    "    if len(os.listdir(os.path.join(path, now_img_name))) == 50+1:\n",
    "        ready_img_names.append(now_img_name)\n",
    "        \n",
    "if len(ready_img_names) >= give_tag_nums:\n",
    "    give_img_names = ready_img_names[:give_tag_nums]\n",
    "print(\"give_img_names: \", give_img_names)\n"
   ]
  },
  {
   "cell_type": "code",
   "execution_count": null,
   "metadata": {},
   "outputs": [],
   "source": [
    "def chunk_list(input_list, chunk_size):\n",
    "    return [input_list[i:i + chunk_size] for i in range(0, len(input_list), chunk_size)]\n",
    "\n",
    "input_list = [1,2,3,4,5,6,7]\n",
    "chunk_size = 3\n",
    "a, b, c = chunk_list(input_list, chunk_size)\n",
    "print(\"a\",a)\n",
    "print(\"b\",b)\n",
    "print(\"c\",c)"
   ]
  },
  {
   "cell_type": "code",
   "execution_count": null,
   "metadata": {},
   "outputs": [],
   "source": [
    "# show img，实际运行在文件“show_imgs.ipynb”中\n",
    "\n",
    "import os\n",
    "from PIL import Image, ImageDraw\n",
    "import matplotlib.pyplot as plt # pip install matplotlib\n",
    "import requests\n",
    "import glob\n",
    "from io import BytesIO\n",
    "\n",
    "\n",
    "def image_grid(imgs, rows, cols):\n",
    "    assert len(imgs) == rows*cols\n",
    "    \n",
    "    w, h = imgs[0].size\n",
    "    grid = Image.new('RGB', size=(cols*w, rows*h))\n",
    "    grid_w, grid_h = grid.size\n",
    "    \n",
    "    for i, img in enumerate(imgs):\n",
    "        grid.paste(img, box=(i%cols*w, i//cols*h))\n",
    "    return grid\n",
    "\n",
    "root_path = \"/dfs/comicai/chenyu.liu/ugc_generate_sample/output_images/MGC_images_regenerate/\"\n",
    "NPC_ids = ['9855', '9856', '9857']\n",
    "\n",
    "for NPC_id in NPC_ids:\n",
    "    NPC_path = os.path.join(root_path, NPC_id)\n",
    "    nums = sorted(os.listdir(NPC_path))\n",
    "    nums = [num for num in nums if num.split('.')[-1] not in ['json']]\n",
    "    for num in nums:\n",
    "        pil_images = []\n",
    "        num_path = os.path.join(root_path, NPC_id, num)\n",
    "        imgs = sorted(os.listdir(num_path))\n",
    "        for img in imgs:\n",
    "            img_ = Image.open(os.path.join(root_path, NPC_id, num, img))\n",
    "            webp_image_bytesio = BytesIO()\n",
    "            img_.save(webp_image_bytesio, \"WEBP\")\n",
    "            pil_images.append(Image.open(webp_image_bytesio)) # 或者pil_images.append(Image.fromarray(image[0])); 或者pil_images.append(image[0])\n",
    "        num_rows = 1\n",
    "        grid = image_grid(pil_images, num_rows, len(pil_images)//num_rows)\n",
    "\n",
    "        print(f\"NPC_id: {NPC_id} num:{num}\")\n",
    "        display(grid)\n"
   ]
  },
  {
   "cell_type": "code",
   "execution_count": null,
   "metadata": {},
   "outputs": [],
   "source": [
    "# 从给定的“待优化MGC图片清单+picture prompt.xlsx”中得到前50个id的list\n",
    "\n",
    "# conda activate comic\n",
    "import json\n",
    "import os\n",
    "from PIL import Image, ImageDraw\n",
    "import matplotlib.pyplot as plt\n",
    "import requests\n",
    "import glob\n",
    "from io import BytesIO\n",
    "import openpyxl\n",
    "from tqdm import tqdm\n",
    "import demoji\n",
    "import re\n",
    "\n",
    "NPC_prompt_list = []\n",
    "wb = openpyxl.load_workbook(\"/dfs/comicai/chenyu.liu/others/temp_files/待优化MGC图片清单+picture prompt.xlsx\")\n",
    "ws = wb[\"Sheet1\"]\n",
    "\n",
    "for r in tqdm(range(2,52)):\n",
    "    id = str(ws.cell(row=r,column=1).value)\n",
    "    NPC_prompt_list.append(id)\n",
    "    # prompt = ws.cell(row=r,column=2).value\n",
    "    # NPC_prompt_dict[id] = prompt\n",
    "\n",
    "print(\"NPC_prompt_list\", NPC_prompt_list)\n",
    "# with open(f'/dfs/comicai/chenyu.liu/ugc_generate_sample/configs/style_configs/MGC_images_prompt_dict.json', 'w', encoding='utf-8') as file:\n",
    "#     file.write(json.dumps(NPC_prompt_dict, indent=4, ensure_ascii=False))\n"
   ]
  },
  {
   "cell_type": "code",
   "execution_count": 18,
   "metadata": {},
   "outputs": [
    {
     "name": "stdout",
     "output_type": "stream",
     "text": [
      "1 1\n",
      "2 2\n",
      "3 3\n",
      "4 4\n"
     ]
    }
   ],
   "source": [
    "A = [1,2,3,4,5,6,7]\n",
    "B = [1,2,3,4]\n",
    "for a,b in zip(A, B):\n",
    "    print(a,b)"
   ]
  },
  {
   "cell_type": "code",
   "execution_count": 22,
   "metadata": {},
   "outputs": [
    {
     "name": "stdout",
     "output_type": "stream",
     "text": [
      "length_:  1000\n",
      "img_folders_:  ['1000', '100011606515861', '100033560297699', '100046514282735', '100064114921680', '100106846699618', '100119561039941', '100150196154545', '100150201483495', '100160429940842', '100176211996838', '100197579403447', '100208481837303', '100425387270251', '100464309170416', '100466098331736', '100480318955704', '100490254741724', '100490889896119', '100493540028540', '100507026600157', '100511765090481', '100519338946793', '100608418443363', '100689103433792', '100847644958826', '100855354028160', '100881809485888', '100894352719987', '100912402399443', '100923072208976', '100937912402013', '100961812287704', '100976583405694', '100978166501476', '101014763135142', '101145083084990', '101167436161229', '101195220865278', '101216369295547', '101234305020152', '101260942631124', '101281105158315', '101291916787786', '101291916787803', '101294595072120', '101300152115409', '101309043937450', '101332261171317', '101341905129602', '101462471397467', '101464689397845', '101479022116996', '101503940448363', '101517204037827', '101534169546914', '101535175737499', '101538683506821', '101567463342317', '101591086932060', '101624234242222', '101663900709079', '101815163347137', '101847468712145', '101853876564213', '101882364788940', '101895422275717', '101899375526049', '101924513489019', '101938312630525', '101965240418503', '101969595625568', '101985873576117', '101992354685137', '101998755258432', '102007503749186', '102016420761853', '102046058614907', '102110715166949', '102156260929644', '102158220877936', '102162233552970', '102211043606610', '102216979284212', '102303556800603', '102303801262176', '102309093855438', '102323298754756', '102362377896022', '10238', '102408572874959', '102445887815782', '102452243451999', '102566192091272', '102570607120596', '102575869452502', '102576044667118', '102596809126121', '102603620794586', '102606232338498', '102644158497008', '102652377907365', '102660077109469', '102680551145654', '102750217834666', '102751354917025', '102906291617992', '103010293944471', '103084148588661', '103570393362562', '103603517857879', '103647571583115', '103680278356205', '103700618346654', '103735119343776', '103834822856922', '103840140181757', '103942369779842', '104006214615286', '104025713729766', '104040506458242', '104080522498114', '104101738119409', '104142642176252', '104318337351911', '104345081540826', '104504818872554', '104656869933231', '104769315467475', '104849948360869', '105186465869936', '105202287796357', '105215564787858', '105401094410342', '105436740808838', '105693935288457', '105706041540737', '105740890972412', '105810108268742', '105839695880327', '105844380606561', '106058673508431', '106231362150621', '106238777761974', '10672', '106910561706220', '107280886345822', '107875385835642', '108017938514019', '108336612262140', '108696415645912', '108986424037473', '108989411102840', '109028338110698', '10942', '109712284377257', '110683930210368', '11497', '15621', '15943', '16893', '19322', '20341', '21849', '23737', '24977', '28005', '34779', '38305', '45412', '46202', '49474', '50499', '50596', '52366888407292', '52452854403237', '52671976726690', '52675896164425', '52766901645505', '52779597516937', '52808552345835', '53023101460552', '53482660905069', '53483633696833', '53483633696884', '53706795004123', '53753794052167', '54021793849588', '54240', '54522900693102', '54541213303020', '54545281958085', '54552558239957', '54560118632547', '54892350460012', '54906', '55095487750222', '55118', '55259149062227', '55259149062236', '55506930860165', '55506930860204', '55594931368136', '55594931368153', '55595107790969', '55651195703463', '55687', '55958709342295', '55982899237051', '55987379015747', '56325380972660', '56328924901512', '56337686859984', '56584', '56598020255970', '56598020255996', '56954735948091', '56982272135483', '56994285506736', '57074101702840', '57095187644501', '57249064501360', '57285811396726', '57320920297554', '57389374738527', '57392307675231', '57554497835269', '57599677894825', '57600051286179', '57734040494205', '58036416794914', '58100787073206', '58171793318018', '58217706643607', '58445541023925', '58449667002538', '58452430946397', '58452430946425', '58464127377506', '58482312937622', '58483534590226', '58494735700086', '58674496127075', '58674496127095', '58734444376132', '58799579668601', '59081654141083', '59084960612648', '59139252715594', '59146132361398', '59178824990890', '59231345827955', '59256851755198', '59392360779846', '59493967642920', '59522499572004', '59527411687566', '59553280901412', '59650', '59680567259394', '59695188050096', '59717732335886', '59753005109344', '59784820297993', '59828828754051', '59864927256643', '60004691185946', '60126733185190', '60234948522139', '60239193501836', '60319801065789', '60367', '60392099061898', '60394985341057', '60394985341097', '60407545520256', '60483721674909', '60492565311576', '60507668963588', '60628972069168', '60769037738242', '60828584612114', '60872322261109', '60901165703281', '60960169119838', '61096853520544', '61109944348822', '61109944348836', '61116386013362', '61164228231258', '61273867800866', '61277814309054', '61613283782968', '61851522904236', '61899543367982', '61971270459664', '62541', '62647462109492', '62690644402279', '62693903081626', '62726491549765', '63082077151368', '63154397425741', '63263873577223', '63284084019508', '63408463073417', '63665327259786', '63743097553068', '64012', '64369134579793', '64402588979337', '64442468483225', '64492235743513', '64680499786006', '64730722697521', '64868047794350', '64885132222628', '65092565143831', '65165403148444', '65178689392716', '65248553074801', '65599863345434', '65787355172993', '65955341783149', '66271', '66488855834803', '66604723421355', '66633877012588', '66669784006914', '66721638817955', '66838', '66889745322103', '66908474618126', '66926813413461', '67069', '67102477156447', '67116977738025', '67157462888525', '67259397484721', '67301538906386', '67496', '67941440393477', '67988699627834', '68566481760367', '68680097468487', '69095997460662', '69186366832759', '69276783014078', '69281816387843', '69341905317980', '69389110186056', '69414728138903', '69471301357724', '69615116136608', '69633158484053', '69639828107413', '69722404597946', '69734710272109', '69827930177700', '69827930177717', '69834580431034', '70026423718033', '70121753931856', '70206350565461', '70398476706068', '70454172221755', '70459426574509', '70459790876785', '70460456378643', '70484364660810', '70560879800490', '70731938046140', '70760', '70856763256943', '70882565259334', '70951', '71093458866331', '71153130848337', '71207936872704', '71230523748485', '71377613664356', '71426167046401', '71553617088656', '71607276687542', '71764317298822', '71801801113751', '71801840959628', '71816660783183', '71877920846004', '71908966719766', '72054266011808', '72086203072792', '72106095567132', '72186414194981', '72191763009800', '72262038106279', '72416004108413', '72467800944919', '72467800944953', '72493972050067', '72508464533797', '72550151192755', '72550151192766', '72604885414000', '72604885414014', '72613648396388', '72855303426131', '72914118045783', '72914118045807', '73054990708889', '73054990708908', '73128006586438', '73275536621737', '73282251317379', '73284811088034', '73304956784956', '73630160826490', '73657106280585', '73683300163845', '73738336018725', '73761650581618', '73802519064891', '73833069334800', '73836028543122', '73943', '73954520129602', '73970512830541', '73996945141942', '74053449281716', '74056627454039', '74180310659157', '74217902358791', '74225962008727', '74264879939657', '74376980250784', '74401133609270', '74528147828846', '74547820679271', '74663320871082', '74692688457880', '74718099407035', '74757222551867', '74821364285710', '74887779004549', '74965172052090', '75038121676980', '75038711857290', '75062915694891', '75165719363713', '75266734297265', '75305688666390', '75525934932092', '75819859206457', '76026495414376', '76140661121140', '76143329837322', '76144760410205', '76332877332547', '76505190776969', '76709122842760', '76731717492997', '76740441452807', '76748085956780', '76765342437636', '76775248797962', '76799003824206', '76799003824207', '76833898115158', '76862155903164', '76866000560242', '76866902524038', '76871714639983', '76882468491400', '76988303507761', '77042205892715', '77068435980389', '77077430538554', '77081589907741', '77087376478273', '77137887150250', '77159836467374', '77163', '77255026892907', '77403038494868', '77420438233381', '77430665556071', '77529009012820', '77531327258931', '77560839659804', '77561716605211', '77573042581682', '77698920427795', '77834467704983', '77873', '77899596484877', '77943295910151', '78122214101158', '78206354968847', '78246102233176', '78246525755660', '78247218614558', '78274931191975', '78287556043011', '78382394323130', '78613087715466', '78626117935263', '78742106673252', '78801', '79047332040795', '79246431006997', '79266061553737', '79297435029588', '79303989924015', '79331923660931', '79341950914876', '79348542583066', '79477475614857', '79581891104833', '79651978527009', '79688650420537', '79709473022068', '79922635419919', '79922805563670', '79965054484615', '80013951152242', '80040223682641', '80090697769240', '80181775192179', '80212416909444', '80298099421323', '80314088198327', '80375788142771', '80433452093749', '80453163987118', '80601558294808', '80677883826474', '80729849393428', '80732534747239', '80897320898707', '80941629325624', '81075692494984', '81100971896960', '81105', '81123511591180', '81182383296827', '81291215818941', '81401', '81460045348992', '81464333103400', '81503783100682', '81719138914415', '81738148315423', '81768624435384', '81846356975783', '81890733633710', '81991065264419', '81997107335241', '82104115531864', '82197455089781', '82253718749300', '82261460984070', '82261460984087', '82390573293864', '82425', '82455379755128', '82473741897878', '82480555167896', '82507048894541', '82521094516915', '82586050539832', '82777529532584', '82777636905075', '82859051278507', '83046780768333', '83127321014442', '83198644306008', '83201593364785', '83204016537777', '83231301460265', '83256081879125', '83505257914468', '83508878835880', '83697404514469', '83834488430670', '84118943125611', '84160168558866', '84175656595523', '84206960341179', '84207513727040', '84222577033320', '84276069400693', '84308968534131', '84330503512179', '84353315467426', '84371419267352', '84523645903033', '84541203267846', '84567969362013', '84587026563192', '84597749456963', '84612198629472', '84850840977483', '84863192510543', '84891', '84891546276008', '84940407148804', '84944067649670', '85012251656473', '85216518103301', '85325519769756', '85326104285264', '85415784898828', '85529475436847', '85549705326855', '85709112627357', '85709114978470', '85726094778650', '85726520320272', '85773464412251', '85914668175431', '85967856586856', '85980736815387', '86019466248499', '86044285878420', '86060504522872', '86089003049125', '86109747413262', '86232093245621', '86286191407375', '86309541208252', '86444163244143', '86468038029500', '86633402728743', '86637952520491', '86698094936204', '86777784356995', '86782420652163', '86787600535617', '86805679014075', '86958860554311', '86984240611489', '86994055721256', '86998315184318', '87021756350613', '87038457102414', '87052575346870', '87055562789131', '87086788940056', '87101363347730', '87111598772506', '87111598772534', '87132940734741', '87148095443077', '87157451661592', '87253486125166', '87290941276224', '87381222547759', '87428477567069', '87457512628327', '87475023007893', '87488765386861', '87492525633670', '87494547472681', '87529839911207', '87729802223731', '87824308105334', '87858949259366', '87915884060796', '87988197642542', '88059809026200', '88149539553437', '88217329344771', '88261', '88362820325560', '88382443974846', '88426891870370', '88450590085433', '88510312571070', '88526876635454', '88590922375268', '88631205744814', '88753523650679', '88761630367832', '88885732462675', '88888119242869', '88894464307456', '88898665910378', '88898665910380', '88923876614296', '88944581537883', '89033274089753', '89104010588471', '89202648711343', '89208914722990', '89224077480239', '89246171963686', '89249850527892', '89270709752112', '89292069089458', '89427555033360', '89518480847012', '89524226908250', '89555180892459', '89566954119238', '89575066374278', '89604070863033', '89672272019623', '89715033641037', '89754778718274', '89770537414825', '89817088958633', '89877302710350', '89943192535138', '89982456533263', '89985169924201', '89986196697153', '90006823932078', '90169169826088', '90187840454957', '90290908008557', '90326344187997', '90419743748367', '90454140576006', '90505057611954', '90516516769964', '90527215501575', '90551519486102', '90598704283792', '90603703849111', '90618201858218', '90667299291314', '90915516825865', '90946864803959', '90953451167809', '90975322489110', '90998331789608', '90999571210327', '91041549844798', '91045715087424', '91095748391028', '91243620888748', '91268722511959', '91268824408152', '91323732672616', '91379018785046', '91413858152730', '91416', '91422331810088', '91517078782050', '91526114963767', '91597089055022', '91597733576788', '91623530340428', '91632644288783', '91640628846775', '91649334595875', '91657436107012', '91698927382795', '91703059214610', '91713815445649', '91717006848117', '91733241905415', '91737865519366', '91737945952418', '91741439889665', '91748428042351', '91751434686580', '91830699446542', '91883249414304', '91889549832260', '91889549832287', '91890010206301', '91899323035956', '91900066410753', '91903823008021', '91912991125605', '91930717192367', '91964801998982', '92053550194860', '92064683843685', '92083423514780', '92093652504842', '92098008150274', '92144741404945', '92254407049489', '92254905819262', '92266356109603', '92267284857142', '92291467960394', '92299512025169', '92325997666420', '92354185965717', '92366224072802', '92391545835604', '92444661002529', '92472480350509', '92572768940194', '92605378695280', '92707499757850', '92771579011205', '92778124247105', '92808652665094', '92892790493324', '92967769280679', '93055942029615', '93118782599335', '93203', '93203425386805', '93364310696228', '93376124072047', '93385527259316', '93387659325749', '93491383242923', '93510461456681', '93711157752112', '93773582868737', '93814414852246', '93815707091120', '93815734530155', '93828318261419', '93844054626391', '93859548840244', '94029658575011', '94065437618489', '94094953304203', '94134340170046', '94157007757455', '94180304531642', '94231544041542', '94283355082938', '94365822853424', '94420537467140', '94430368452900', '94440551645248', '94459060551992', '94505273073777', '94506271572147', '94525809799478', '94622354256022', '94622354256045', '94651555823784', '94706720153859', '94861563150469', '94875475648624', '94911773188368', '94918659944711', '94925868277875', '94928309543181', '94971345109080', '95095906041961', '95171513737329', '95217415848123', '95226924949568', '95278377095316', '95323668209743', '95482194280581', '95508235661436', '95508963262537', '95528043839802', '95581245780155', '95610171629702', '95637612503148', '95663977935037', '95671808061563', '95897090904335', '95897090904371', '95905892995140', '95930330017880', '95941915742352', '95971406188652', '95997920079955', '96015597727848', '96085148352813', '96125070655674', '96147949232200', '96186503115046', '96233080709261', '96241900621954', '96242008908047', '96256442622036', '96277133226071', '96285690835234', '96322498691142', '96344514343203', '96357725143331', '96509018366092', '96512387555635', '96519961301088', '96520893128890', '96586793902255', '96604578668729', '96626678911080', '96638601916552', '96642419515520', '96721166614624', '96753140003118', '96783719424106', '96867618029671', '96909788278897', '96924967759976', '96946893300019', '96980423573629', '97002907197740', '97017077608745', '97056932085860', '97088528293958', '97100437221666', '97185861222692', '97255162282134', '97309493629054', '97310506164333', '97326558585095', '97336165789968', '97339929018460', '97352250839336', '97394694312053', '97398237516056', '97573373952157', '97582626910497', '97599841607967', '97620642046100', '97638688993574', '97648278737071', '97745587745039', '97990132130104', '98017991028834', '98061724213515', '98080404750487', '98090013901111', '98110006632563', '98129192792146', '98277103677543', '98342637994062', '98375715209495', '98390124367947', '98415624511586', '98416462053693', '98438451904684', '98439580430400', '98464747491632', '98469223067919', '98481214791990', '98504', '98526298681502', '98650030522525', '98678502322273', '98718798979223', '98733809131589', '98747788894500', '98762806374541', '98803012190510', '98818107453622', '98849685213249', '98861792194739', '98865886707829', '98903480733789', '98928984740002', '98988058419315', '99010607337618', '99038975213655', '99044781633676', '99064269181103', '99082439864391', '99117797789816', '99118165905507', '99127215337785', '99147800912137', '99156002295917', '99157403623556', '99210443157660', '99216521163070', '99374278041903', '99378806726720', '99389258494036', '99431848894767', '99440688480340', '99459062014067', '99488762622237', '99504365375603', '99551508009277', '99581909930297', '99595132264728', '99665431359783', '99672980152605', '99673787637860', '99694549856422', '99699212407059', '99713911120160', '99730559291683', '99730739826846', '99749214072955', '99774055547021', '99787318661269', '99815072624920', '99837072826544', '99845143949392', '99862408179957', '99873779171497', '99890360680680', '99912']\n",
      "length:  1000\n",
      "img_folders:  ['1000.png', '100011606515861.png', '100033560297699.png', '100046514282735.png', '100064114921680.png', '100106846699618.png', '100119561039941.png', '100150196154545.png', '100150201483495.png', '100160429940842.png', '100176211996838.png', '100197579403447.png', '100208481837303.png', '100425387270251.png', '100464309170416.png', '100466098331736.png', '100480318955704.png', '100490254741724.png', '100490889896119.png', '100493540028540.png', '100507026600157.png', '100511765090481.png', '100519338946793.png', '100608418443363.png', '100689103433792.png', '100847644958826.png', '100855354028160.png', '100881809485888.png', '100894352719987.png', '100912402399443.png', '100923072208976.png', '100937912402013.png', '100961812287704.png', '100976583405694.png', '100978166501476.png', '101014763135142.png', '101145083084990.png', '101167436161229.png', '101195220865278.png', '101216369295547.png', '101234305020152.png', '101260942631124.png', '101281105158315.png', '101291916787786.png', '101291916787803.png', '101294595072120.png', '101300152115409.png', '101309043937450.png', '101332261171317.png', '101341905129602.png', '101462471397467.png', '101464689397845.png', '101479022116996.png', '101503940448363.png', '101517204037827.png', '101534169546914.png', '101535175737499.png', '101538683506821.png', '101567463342317.png', '101591086932060.png', '101624234242222.png', '101663900709079.png', '101815163347137.png', '101847468712145.png', '101853876564213.png', '101882364788940.png', '101895422275717.png', '101899375526049.png', '101924513489019.png', '101938312630525.png', '101965240418503.png', '101969595625568.png', '101985873576117.png', '101992354685137.png', '101998755258432.png', '102007503749186.png', '102016420761853.png', '102046058614907.png', '102110715166949.png', '102156260929644.png', '102158220877936.png', '102162233552970.png', '102211043606610.png', '102216979284212.png', '102303556800603.png', '102303801262176.png', '102309093855438.png', '102323298754756.png', '102362377896022.png', '10238.png', '102408572874959.png', '102445887815782.png', '102452243451999.png', '102566192091272.png', '102570607120596.png', '102575869452502.png', '102576044667118.png', '102596809126121.png', '102603620794586.png', '102606232338498.png', '102644158497008.png', '102652377907365.png', '102660077109469.png', '102680551145654.png', '102750217834666.png', '102751354917025.png', '102906291617992.png', '103010293944471.png', '103084148588661.png', '103570393362562.png', '103603517857879.png', '103647571583115.png', '103680278356205.png', '103700618346654.png', '103735119343776.png', '103834822856922.png', '103840140181757.png', '103942369779842.png', '104006214615286.png', '104025713729766.png', '104040506458242.png', '104080522498114.png', '104101738119409.png', '104142642176252.png', '104318337351911.png', '104345081540826.png', '104504818872554.png', '104656869933231.png', '104769315467475.png', '104849948360869.png', '105186465869936.png', '105202287796357.png', '105215564787858.png', '105401094410342.png', '105436740808838.png', '105693935288457.png', '105706041540737.png', '105740890972412.png', '105810108268742.png', '105839695880327.png', '105844380606561.png', '106058673508431.png', '106231362150621.png', '106238777761974.png', '10672.png', '106910561706220.png', '107280886345822.png', '107875385835642.png', '108017938514019.png', '108336612262140.png', '108696415645912.png', '108986424037473.png', '108989411102840.png', '109028338110698.png', '10942.png', '109712284377257.png', '110683930210368.png', '11497.png', '15621.png', '15943.png', '16893.png', '19322.png', '20341.png', '21849.png', '23737.png', '24977.png', '28005.png', '34779.png', '38305.png', '45412.png', '46202.png', '49474.png', '50499.png', '50596.png', '52366888407292.png', '52452854403237.png', '52671976726690.png', '52675896164425.png', '52766901645505.png', '52779597516937.png', '52808552345835.png', '53023101460552.png', '53482660905069.png', '53483633696833.png', '53483633696884.png', '53706795004123.png', '53753794052167.png', '54021793849588.png', '54240.png', '54522900693102.png', '54541213303020.png', '54545281958085.png', '54552558239957.png', '54560118632547.png', '54892350460012.png', '54906.png', '55095487750222.png', '55118.png', '55259149062227.png', '55259149062236.png', '55506930860165.png', '55506930860204.png', '55594931368136.png', '55594931368153.png', '55595107790969.png', '55651195703463.png', '55687.png', '55958709342295.png', '55982899237051.png', '55987379015747.png', '56325380972660.png', '56328924901512.png', '56337686859984.png', '56584.png', '56598020255970.png', '56598020255996.png', '56954735948091.png', '56982272135483.png', '56994285506736.png', '57074101702840.png', '57095187644501.png', '57249064501360.png', '57285811396726.png', '57320920297554.png', '57389374738527.png', '57392307675231.png', '57554497835269.png', '57599677894825.png', '57600051286179.png', '57734040494205.png', '58036416794914.png', '58100787073206.png', '58171793318018.png', '58217706643607.png', '58445541023925.png', '58449667002538.png', '58452430946397.png', '58452430946425.png', '58464127377506.png', '58482312937622.png', '58483534590226.png', '58494735700086.png', '58674496127075.png', '58674496127095.png', '58734444376132.png', '58799579668601.png', '59081654141083.png', '59084960612648.png', '59139252715594.png', '59146132361398.png', '59178824990890.png', '59231345827955.png', '59256851755198.png', '59392360779846.png', '59493967642920.png', '59522499572004.png', '59527411687566.png', '59553280901412.png', '59650.png', '59680567259394.png', '59695188050096.png', '59717732335886.png', '59753005109344.png', '59784820297993.png', '59828828754051.png', '59864927256643.png', '60004691185946.png', '60126733185190.png', '60234948522139.png', '60239193501836.png', '60319801065789.png', '60367.png', '60392099061898.png', '60394985341057.png', '60394985341097.png', '60407545520256.png', '60483721674909.png', '60492565311576.png', '60507668963588.png', '60628972069168.png', '60769037738242.png', '60828584612114.png', '60872322261109.png', '60901165703281.png', '60960169119838.png', '61096853520544.png', '61109944348822.png', '61109944348836.png', '61116386013362.png', '61164228231258.png', '61273867800866.png', '61277814309054.png', '61613283782968.png', '61851522904236.png', '61899543367982.png', '61971270459664.png', '62541.png', '62647462109492.png', '62690644402279.png', '62693903081626.png', '62726491549765.png', '63082077151368.png', '63154397425741.png', '63263873577223.png', '63284084019508.png', '63408463073417.png', '63665327259786.png', '63743097553068.png', '64012.png', '64369134579793.png', '64402588979337.png', '64442468483225.png', '64492235743513.png', '64680499786006.png', '64730722697521.png', '64868047794350.png', '64885132222628.png', '65092565143831.png', '65165403148444.png', '65178689392716.png', '65248553074801.png', '65599863345434.png', '65787355172993.png', '65955341783149.png', '66271.png', '66488855834803.png', '66604723421355.png', '66633877012588.png', '66669784006914.png', '66721638817955.png', '66838.png', '66889745322103.png', '66908474618126.png', '66926813413461.png', '67069.png', '67102477156447.png', '67116977738025.png', '67157462888525.png', '67259397484721.png', '67301538906386.png', '67496.png', '67941440393477.png', '67988699627834.png', '68566481760367.png', '68680097468487.png', '69095997460662.png', '69186366832759.png', '69276783014078.png', '69281816387843.png', '69341905317980.png', '69389110186056.png', '69414728138903.png', '69471301357724.png', '69615116136608.png', '69633158484053.png', '69639828107413.png', '69722404597946.png', '69734710272109.png', '69827930177700.png', '69827930177717.png', '69834580431034.png', '70026423718033.png', '70121753931856.png', '70206350565461.png', '70398476706068.png', '70454172221755.png', '70459426574509.png', '70459790876785.png', '70460456378643.png', '70484364660810.png', '70560879800490.png', '70731938046140.png', '70760.png', '70856763256943.png', '70882565259334.png', '70951.png', '71093458866331.png', '71153130848337.png', '71207936872704.png', '71230523748485.png', '71377613664356.png', '71426167046401.png', '71553617088656.png', '71607276687542.png', '71764317298822.png', '71801801113751.png', '71801840959628.png', '71816660783183.png', '71877920846004.png', '71908966719766.png', '72054266011808.png', '72086203072792.png', '72106095567132.png', '72186414194981.png', '72191763009800.png', '72262038106279.png', '72416004108413.png', '72467800944919.png', '72467800944953.png', '72493972050067.png', '72508464533797.png', '72550151192755.png', '72550151192766.png', '72604885414000.png', '72604885414014.png', '72613648396388.png', '72855303426131.png', '72914118045783.png', '72914118045807.png', '73054990708889.png', '73054990708908.png', '73128006586438.png', '73275536621737.png', '73282251317379.png', '73284811088034.png', '73304956784956.png', '73630160826490.png', '73657106280585.png', '73683300163845.png', '73738336018725.png', '73761650581618.png', '73802519064891.png', '73833069334800.png', '73836028543122.png', '73943.png', '73954520129602.png', '73970512830541.png', '73996945141942.png', '74053449281716.png', '74056627454039.png', '74180310659157.png', '74217902358791.png', '74225962008727.png', '74264879939657.png', '74376980250784.png', '74401133609270.png', '74528147828846.png', '74547820679271.png', '74663320871082.png', '74692688457880.png', '74718099407035.png', '74757222551867.png', '74821364285710.png', '74887779004549.png', '74965172052090.png', '75038121676980.png', '75038711857290.png', '75062915694891.png', '75165719363713.png', '75266734297265.png', '75305688666390.png', '75525934932092.png', '75819859206457.png', '76026495414376.png', '76140661121140.png', '76143329837322.png', '76144760410205.png', '76332877332547.png', '76505190776969.png', '76709122842760.png', '76731717492997.png', '76740441452807.png', '76748085956780.png', '76765342437636.png', '76775248797962.png', '76799003824206.png', '76799003824207.png', '76833898115158.png', '76862155903164.png', '76866000560242.png', '76866902524038.png', '76871714639983.png', '76882468491400.png', '76988303507761.png', '77042205892715.png', '77068435980389.png', '77077430538554.png', '77081589907741.png', '77087376478273.png', '77137887150250.png', '77159836467374.png', '77163.png', '77255026892907.png', '77403038494868.png', '77420438233381.png', '77430665556071.png', '77529009012820.png', '77531327258931.png', '77560839659804.png', '77561716605211.png', '77573042581682.png', '77698920427795.png', '77834467704983.png', '77873.png', '77899596484877.png', '77943295910151.png', '78122214101158.png', '78206354968847.png', '78246102233176.png', '78246525755660.png', '78247218614558.png', '78274931191975.png', '78287556043011.png', '78382394323130.png', '78613087715466.png', '78626117935263.png', '78742106673252.png', '78801.png', '79047332040795.png', '79246431006997.png', '79266061553737.png', '79297435029588.png', '79303989924015.png', '79331923660931.png', '79341950914876.png', '79348542583066.png', '79477475614857.png', '79581891104833.png', '79651978527009.png', '79688650420537.png', '79709473022068.png', '79922635419919.png', '79922805563670.png', '79965054484615.png', '80013951152242.png', '80040223682641.png', '80090697769240.png', '80181775192179.png', '80212416909444.png', '80298099421323.png', '80314088198327.png', '80375788142771.png', '80433452093749.png', '80453163987118.png', '80601558294808.png', '80677883826474.png', '80729849393428.png', '80732534747239.png', '80897320898707.png', '80941629325624.png', '81075692494984.png', '81100971896960.png', '81105.png', '81123511591180.png', '81182383296827.png', '81291215818941.png', '81401.png', '81460045348992.png', '81464333103400.png', '81503783100682.png', '81719138914415.png', '81738148315423.png', '81768624435384.png', '81846356975783.png', '81890733633710.png', '81991065264419.png', '81997107335241.png', '82104115531864.png', '82197455089781.png', '82253718749300.png', '82261460984070.png', '82261460984087.png', '82390573293864.png', '82425.png', '82455379755128.png', '82473741897878.png', '82480555167896.png', '82507048894541.png', '82521094516915.png', '82586050539832.png', '82777529532584.png', '82777636905075.png', '82859051278507.png', '83046780768333.png', '83127321014442.png', '83198644306008.png', '83201593364785.png', '83204016537777.png', '83231301460265.png', '83256081879125.png', '83505257914468.png', '83508878835880.png', '83697404514469.png', '83834488430670.png', '84118943125611.png', '84160168558866.png', '84175656595523.png', '84206960341179.png', '84207513727040.png', '84222577033320.png', '84276069400693.png', '84308968534131.png', '84330503512179.png', '84353315467426.png', '84371419267352.png', '84523645903033.png', '84541203267846.png', '84567969362013.png', '84587026563192.png', '84597749456963.png', '84612198629472.png', '84850840977483.png', '84863192510543.png', '84891.png', '84891546276008.png', '84940407148804.png', '84944067649670.png', '85012251656473.png', '85216518103301.png', '85325519769756.png', '85326104285264.png', '85415784898828.png', '85529475436847.png', '85549705326855.png', '85709112627357.png', '85709114978470.png', '85726094778650.png', '85726520320272.png', '85773464412251.png', '85914668175431.png', '85967856586856.png', '85980736815387.png', '86019466248499.png', '86044285878420.png', '86060504522872.png', '86089003049125.png', '86109747413262.png', '86232093245621.png', '86286191407375.png', '86309541208252.png', '86444163244143.png', '86468038029500.png', '86633402728743.png', '86637952520491.png', '86698094936204.png', '86777784356995.png', '86782420652163.png', '86787600535617.png', '86805679014075.png', '86958860554311.png', '86984240611489.png', '86994055721256.png', '86998315184318.png', '87021756350613.png', '87038457102414.png', '87052575346870.png', '87055562789131.png', '87086788940056.png', '87101363347730.png', '87111598772506.png', '87111598772534.png', '87132940734741.png', '87148095443077.png', '87157451661592.png', '87253486125166.png', '87290941276224.png', '87381222547759.png', '87428477567069.png', '87457512628327.png', '87475023007893.png', '87488765386861.png', '87492525633670.png', '87494547472681.png', '87529839911207.png', '87729802223731.png', '87824308105334.png', '87858949259366.png', '87915884060796.png', '87988197642542.png', '88059809026200.png', '88149539553437.png', '88217329344771.png', '88261.png', '88362820325560.png', '88382443974846.png', '88426891870370.png', '88450590085433.png', '88510312571070.png', '88526876635454.png', '88590922375268.png', '88631205744814.png', '88753523650679.png', '88761630367832.png', '88885732462675.png', '88888119242869.png', '88894464307456.png', '88898665910378.png', '88898665910380.png', '88923876614296.png', '88944581537883.png', '89033274089753.png', '89104010588471.png', '89202648711343.png', '89208914722990.png', '89224077480239.png', '89246171963686.png', '89249850527892.png', '89270709752112.png', '89292069089458.png', '89427555033360.png', '89518480847012.png', '89524226908250.png', '89555180892459.png', '89566954119238.png', '89575066374278.png', '89604070863033.png', '89672272019623.png', '89715033641037.png', '89754778718274.png', '89770537414825.png', '89817088958633.png', '89877302710350.png', '89943192535138.png', '89982456533263.png', '89985169924201.png', '89986196697153.png', '90006823932078.png', '90169169826088.png', '90187840454957.png', '90290908008557.png', '90326344187997.png', '90419743748367.png', '90454140576006.png', '90505057611954.png', '90516516769964.png', '90527215501575.png', '90551519486102.png', '90598704283792.png', '90603703849111.png', '90618201858218.png', '90667299291314.png', '90915516825865.png', '90946864803959.png', '90953451167809.png', '90975322489110.png', '90998331789608.png', '90999571210327.png', '91041549844798.png', '91045715087424.png', '91095748391028.png', '91243620888748.png', '91268722511959.png', '91268824408152.png', '91323732672616.png', '91379018785046.png', '91413858152730.png', '91416.png', '91422331810088.png', '91517078782050.png', '91526114963767.png', '91597089055022.png', '91597733576788.png', '91623530340428.png', '91632644288783.png', '91640628846775.png', '91649334595875.png', '91657436107012.png', '91698927382795.png', '91703059214610.png', '91713815445649.png', '91717006848117.png', '91733241905415.png', '91737865519366.png', '91737945952418.png', '91741439889665.png', '91748428042351.png', '91751434686580.png', '91830699446542.png', '91883249414304.png', '91889549832260.png', '91889549832287.png', '91890010206301.png', '91899323035956.png', '91900066410753.png', '91903823008021.png', '91912991125605.png', '91930717192367.png', '91964801998982.png', '92053550194860.png', '92064683843685.png', '92083423514780.png', '92093652504842.png', '92098008150274.png', '92144741404945.png', '92254407049489.png', '92254905819262.png', '92266356109603.png', '92267284857142.png', '92291467960394.png', '92299512025169.png', '92325997666420.png', '92354185965717.png', '92366224072802.png', '92391545835604.png', '92444661002529.png', '92472480350509.png', '92572768940194.png', '92605378695280.png', '92707499757850.png', '92771579011205.png', '92778124247105.png', '92808652665094.png', '92892790493324.png', '92967769280679.png', '93055942029615.png', '93118782599335.png', '93203.png', '93203425386805.png', '93364310696228.png', '93376124072047.png', '93385527259316.png', '93387659325749.png', '93491383242923.png', '93510461456681.png', '93711157752112.png', '93773582868737.png', '93814414852246.png', '93815707091120.png', '93815734530155.png', '93828318261419.png', '93844054626391.png', '93859548840244.png', '94029658575011.png', '94065437618489.png', '94094953304203.png', '94134340170046.png', '94157007757455.png', '94180304531642.png', '94231544041542.png', '94283355082938.png', '94365822853424.png', '94420537467140.png', '94430368452900.png', '94440551645248.png', '94459060551992.png', '94505273073777.png', '94506271572147.png', '94525809799478.png', '94622354256022.png', '94622354256045.png', '94651555823784.png', '94706720153859.png', '94861563150469.png', '94875475648624.png', '94911773188368.png', '94918659944711.png', '94925868277875.png', '94928309543181.png', '94971345109080.png', '95095906041961.png', '95171513737329.png', '95217415848123.png', '95226924949568.png', '95278377095316.png', '95323668209743.png', '95482194280581.png', '95508235661436.png', '95508963262537.png', '95528043839802.png', '95581245780155.png', '95610171629702.png', '95637612503148.png', '95663977935037.png', '95671808061563.png', '95897090904335.png', '95897090904371.png', '95905892995140.png', '95930330017880.png', '95941915742352.png', '95971406188652.png', '95997920079955.png', '96015597727848.png', '96085148352813.png', '96125070655674.png', '96147949232200.png', '96186503115046.png', '96233080709261.png', '96241900621954.png', '96242008908047.png', '96256442622036.png', '96277133226071.png', '96285690835234.png', '96322498691142.png', '96344514343203.png', '96357725143331.png', '96509018366092.png', '96512387555635.png', '96519961301088.png', '96520893128890.png', '96586793902255.png', '96604578668729.png', '96626678911080.png', '96638601916552.png', '96642419515520.png', '96721166614624.png', '96753140003118.png', '96783719424106.png', '96867618029671.png', '96909788278897.png', '96924967759976.png', '96946893300019.png', '96980423573629.png', '97002907197740.png', '97017077608745.png', '97056932085860.png', '97088528293958.png', '97100437221666.png', '97185861222692.png', '97255162282134.png', '97309493629054.png', '97310506164333.png', '97326558585095.png', '97336165789968.png', '97339929018460.png', '97352250839336.png', '97394694312053.png', '97398237516056.png', '97573373952157.png', '97582626910497.png', '97599841607967.png', '97620642046100.png', '97638688993574.png', '97648278737071.png', '97745587745039.png', '97990132130104.png', '98017991028834.png', '98061724213515.png', '98080404750487.png', '98090013901111.png', '98110006632563.png', '98129192792146.png', '98277103677543.png', '98342637994062.png', '98375715209495.png', '98390124367947.png', '98415624511586.png', '98416462053693.png', '98438451904684.png', '98439580430400.png', '98464747491632.png', '98469223067919.png', '98481214791990.png', '98504.png', '98526298681502.png', '98650030522525.png', '98678502322273.png', '98718798979223.png', '98733809131589.png', '98747788894500.png', '98762806374541.png', '98803012190510.png', '98818107453622.png', '98849685213249.png', '98861792194739.png', '98865886707829.png', '98903480733789.png', '98928984740002.png', '98988058419315.png', '99010607337618.png', '99038975213655.png', '99044781633676.png', '99064269181103.png', '99082439864391.png', '99117797789816.png', '99118165905507.png', '99127215337785.png', '99147800912137.png', '99156002295917.png', '99157403623556.png', '99210443157660.png', '99216521163070.png', '99374278041903.png', '99378806726720.png', '99389258494036.png', '99431848894767.png', '99440688480340.png', '99459062014067.png', '99488762622237.png', '99504365375603.png', '99551508009277.png', '99581909930297.png', '99595132264728.png', '99665431359783.png', '99672980152605.png', '99673787637860.png', '99694549856422.png', '99699212407059.png', '99713911120160.png', '99730559291683.png', '99730739826846.png', '99749214072955.png', '99774055547021.png', '99787318661269.png', '99815072624920.png', '99837072826544.png', '99845143949392.png', '99862408179957.png', '99873779171497.png', '99890360680680.png', '99912.png']\n",
      "diff_list:  []\n"
     ]
    }
   ],
   "source": [
    "import os\n",
    "import shutil\n",
    "\n",
    "input_img_dir_ = \"/dfs/comicai/chenyu.liu/ugc_generate_sample/input_images/MGC_images_1_\"\n",
    "input_img_dir = \"/dfs/comicai/chenyu.liu/ugc_generate_sample/input_images/MGC_images_1\"\n",
    "img_folders_ = os.listdir(input_img_dir_)\n",
    "img_folders_ = sorted(img_folders_)\n",
    "length_ = len(img_folders_)\n",
    "print(\"length_: \", length_)\n",
    "print(\"img_folders_: \", img_folders_)\n",
    "\n",
    "# for img_folder_ in img_folders_:\n",
    "#     img_folder_dir = os.path.join(input_img_dir_, img_folder_)\n",
    "#     imgs = os.listdir(img_folder_dir)\n",
    "#     for img in imgs:\n",
    "#         if img.split('.')[0].split('-')[-1] == \"1\":\n",
    "#             s_path = os.path.join(input_img_dir_, img_folder_, img)\n",
    "#             t_path = os.path.join(input_img_dir, f\"{img_folder_}.png\")\n",
    "#             print(img_folder_, img, s_path, t_path)\n",
    "#             shutil.copy(s_path, t_path)\n",
    "#     # break\n",
    "\n",
    "img_folders = os.listdir(input_img_dir)\n",
    "img_folders = sorted(img_folders)\n",
    "length = len(img_folders)\n",
    "print(\"length: \", length)\n",
    "print(\"img_folders: \", img_folders)\n",
    "\n",
    "diff_list = []\n",
    "for img_folder_ in img_folders_:\n",
    "    if f\"{img_folder_}.png\" not in img_folders:\n",
    "        diff_list.append(img_folder_)\n",
    "print(\"diff_list: \", diff_list)\n"
   ]
  },
  {
   "cell_type": "code",
   "execution_count": null,
   "metadata": {},
   "outputs": [
    {
     "ename": "",
     "evalue": "",
     "output_type": "error",
     "traceback": [
      "\u001b[1;31m无法启动 Kernel。 \n",
      "\u001b[1;31mNotWritableError: The current user does not have write permissions to a required path.\n",
      "\u001b[1;31m  path: /dfs/comicai/chenyu.liu/anaconda3/pkgs/cache/18414ddb.json\n",
      "\u001b[1;31m  uid: 1004\n",
      "\u001b[1;31m  gid: 1004\n",
      "\u001b[1;31m\n",
      "\u001b[1;31mIf you feel that permissions on this path are set incorrectly, you can manually\n",
      "\u001b[1;31mchange them by executing\n",
      "\u001b[1;31m\n",
      "\u001b[1;31m  $ sudo chown 1004:1004 /dfs/comicai/chenyu.liu/anaconda3/pkgs/cache/18414ddb.json\n",
      "\u001b[1;31m\n",
      "\u001b[1;31mIn general, it's not advisable to use 'sudo conda'. \n",
      "\u001b[1;31m有关更多详细信息，请查看 Jupyter <a href='command:jupyter.viewOutput'>log</a>。"
     ]
    }
   ],
   "source": [
    "print(1)"
   ]
  },
  {
   "cell_type": "markdown",
   "metadata": {},
   "source": [
    "# 生图需要的数据处理脚本"
   ]
  },
  {
   "cell_type": "markdown",
   "metadata": {},
   "source": [
    "## 1. 下载图片，得到图片id，保存到NPC_names.txt中"
   ]
  },
  {
   "cell_type": "markdown",
   "metadata": {},
   "source": [
    "### for MGC"
   ]
  },
  {
   "cell_type": "code",
   "execution_count": null,
   "metadata": {},
   "outputs": [],
   "source": [
    "# （MGC）从“待优化MGC图片清单+picture prompt.xlsx”中下载图片（包含img url）到特定文件夹，如“MGC_images_1”下\n",
    "# 注意：\n",
    "# 修改几个路径\n",
    "\n",
    "# conda activate comic\n",
    "import os\n",
    "from PIL import Image, ImageDraw\n",
    "import matplotlib.pyplot as plt\n",
    "import requests\n",
    "import glob\n",
    "from io import BytesIO\n",
    "import openpyxl\n",
    "from tqdm import tqdm\n",
    "import demoji\n",
    "import re\n",
    "\n",
    "def remove_emojis(text):\n",
    "    cleaned_text = demoji.replace(text, '')\n",
    "    return cleaned_text\n",
    "\n",
    "def keep_alphanumeric(text):\n",
    "    alphanumeric_pattern = re.compile(r'[\\W_]+', re.UNICODE)\n",
    "    text_alphanumeric = alphanumeric_pattern.sub(r'', text)\n",
    "    return text_alphanumeric\n",
    "\n",
    "def load_image(url):\n",
    "    try:\n",
    "        response = requests.get(url)\n",
    "    except:\n",
    "        return None\n",
    "    return Image.open(BytesIO(response.content)).convert(\"RGB\")\n",
    "\n",
    "image_root_path = \"/dfs/comicai/chenyu.liu/ugc_generate_sample/input_images/MGC_images_1\"\n",
    "if not os.path.exists(image_root_path):\n",
    "   os.makedirs(image_root_path, exist_ok=True)\n",
    "\n",
    "wb = openpyxl.load_workbook(\"/dfs/comicai/chenyu.liu/others/temp_files/待优化MGC图片清单+picture prompt.xlsx\")\n",
    "ws = wb[\"Sheet1\"]\n",
    "\n",
    "for r in tqdm(range(2,1918)):\n",
    "    id = ws.cell(row=r,column=1).value\n",
    "    online_image_URL = ws.cell(row=r,column=3).value\n",
    "    \n",
    "    id = str(id)\n",
    "\n",
    "    image_name = id\n",
    "\n",
    "    loaded_image = load_image(online_image_URL)\n",
    "    loaded_image.save(f\"{image_root_path}/{image_name}.png\")\n",
    "\n",
    "    # if r == 2:\n",
    "    #    break\n"
   ]
  },
  {
   "cell_type": "code",
   "execution_count": 23,
   "metadata": {},
   "outputs": [],
   "source": [
    "# （MGC）将文件夹下的所有图片的名字（不含后缀）逐行存放到temp_files/NPC_names.txt中，为下一步得到xxxx_images_style_dict.json作准备\n",
    "# 注意：\n",
    "# 不用修改参数\n",
    "\n",
    "import os\n",
    "\n",
    "input_images_path = \"/dfs/comicai/chenyu.liu/ugc_generate_sample/input_images/MGC_images_1\"\n",
    "NPC_names_txt_path = \"temp_files/NPC_names.txt\"\n",
    "\n",
    "input_image_names = sorted(os.listdir(input_images_path))\n",
    "\n",
    "with open(NPC_names_txt_path, \"w\") as file:\n",
    "    for item in input_image_names:\n",
    "        file.write(item.split('.')[0] + '\\n')\n"
   ]
  },
  {
   "cell_type": "markdown",
   "metadata": {},
   "source": [
    "### for chat、wishwell"
   ]
  },
  {
   "cell_type": "code",
   "execution_count": 4,
   "metadata": {},
   "outputs": [
    {
     "name": "stdout",
     "output_type": "stream",
     "text": [
      "len(NPC_names_list):  75\n",
      "NPC_names_list:  ['10012', '10015', '10020', '10049', '10127', '10178', '10401', '10610', '10631', '10804', '10940', '11083', '11366', '11691', '11863', '11899', '12309', '12408', '12935', '13124', '14347', '14422', '15159', '21034', '21581', '22008', '22142', '22270', '22337', '22390', '22455', '22489', '22572', '23351', '23536', '23643', '23855', '23900', '23907', '23915', '23945', '24260', '2533274790432830', '2533274790439120', '2533274790456000', '2533274790456390', '2533274790476510', '2533274790492110', '2533274790492510', '2533274790503820', '2533274790506580', '2533274790512570', '2533274790523220', '2533274790551820', '2533274790552610', '2533274790558150', '2533274790569230', '2533274790569910', '2533274790570650', '2533274790572300', '2533274790575290', '2533274790579240', '2533274790580230', '2533274790590400', '2533274790591630', '2533274790609590', '2814749767106590', '2814749767106680', '2814749767106770', '2814749767106780', '2814749767106850', '2814749767106900', '2814749767106930', '2814749767106950', '9878']\n"
     ]
    }
   ],
   "source": [
    "# （chat、wishwell：因为要以请求的方式得到图片）手动从xlsx中复制一系列id，粘贴在NPC_names.txt中，读取txt中的每一行，得到一个list，排好序，重新存放在NPC_names.txt中，有以下两个目的：\n",
    "# 1. （wishwell）打印list，以在后续步骤中得到_dict.json\n",
    "# 2. （chat、wishwell）重新存放到NPC_names.txt中，为下一步得到xxxx_images_style_dict.json作准备\n",
    "# 注意：\n",
    "# 不用修改参数\n",
    "\n",
    "NPC_names_list = []\n",
    "with open('temp_files/NPC_names.txt', 'r') as file:\n",
    "    for line in file:\n",
    "        NPC_name = line.strip()\n",
    "        NPC_names_list.append(NPC_name)\n",
    "NPC_names_list = sorted(NPC_names_list)\n",
    "\n",
    "print(\"len(NPC_names_list): \", len(NPC_names_list))\n",
    "print(\"NPC_names_list: \", NPC_names_list)\n",
    "\n",
    "with open('temp_files/NPC_names.txt', 'w') as file:\n",
    "    for NPC_name in NPC_names_list:\n",
    "        file.write(NPC_name + '\\n')\n"
   ]
  },
  {
   "cell_type": "code",
   "execution_count": 5,
   "metadata": {},
   "outputs": [
    {
     "name": "stderr",
     "output_type": "stream",
     "text": [
      "100%|██████████| 75/75 [05:44<00:00,  4.60s/it]\n"
     ]
    }
   ],
   "source": [
    "# （chat、wishwell）下载图片\n",
    "# （wishwell）并且得到_dict.json\n",
    "# 注意：\n",
    "# 首先手动创建一个chat_images_1或者wishwell_images_1的文件夹\n",
    "\n",
    "import os\n",
    "import json\n",
    "import shutil\n",
    "import multiprocessing\n",
    "# from ugc_generate_sample_mine_NPC_generate_wishwell import NPC_generate\n",
    "# from configs import server_config\n",
    "import requests\n",
    "from PIL import Image, ImageDraw\n",
    "from io import BytesIO\n",
    "from tqdm import tqdm\n",
    "\n",
    "title = \"chat\" # \"chat\": # 仅下载图片；\"wishwell\": # 下载图片+得到wishwell_dict.json\n",
    "round_num = 2\n",
    "input_img_folder_name = f\"{title}_images_{round_num}\"\n",
    "appointed_NPC_names = []\n",
    "with open('temp_files/NPC_names.txt', 'r') as file:\n",
    "    for line in file:\n",
    "        NPC_name = line.strip()\n",
    "        appointed_NPC_names.append(NPC_name)\n",
    "appointed_NPC_names = sorted(appointed_NPC_names)\n",
    "\n",
    "\n",
    "def load_image(url):\n",
    "    try:\n",
    "        response = requests.get(url)\n",
    "    except:\n",
    "        return None\n",
    "    return Image.open(BytesIO(response.content)).convert(\"RGB\")\n",
    "\n",
    "# if title == \"chat\":\n",
    "if title == \"wishwell\":\n",
    "    wishwell_dict = {}\n",
    "def get_character_info(cid):\n",
    "    # if title == \"chat\":\n",
    "    if title == \"wishwell\":\n",
    "        global wishwell_dict\n",
    "\n",
    "    character_info_url = \"https://api-internal.linke.ai/internal/character/info\"\n",
    "    character_info_params = {\n",
    "        \"character_id\": cid\n",
    "    }\n",
    "    character_info_response = requests.get(character_info_url, params=character_info_params)\n",
    "    if character_info_response.status_code == 200:\n",
    "        character_info_data = character_info_response.json()\n",
    "        character_info_image_URL = character_info_data[\"character\"][\"avatar_dynamic_img\"]\n",
    "        loaded_image = load_image(character_info_image_URL)\n",
    "        wishwell_character_image_save_path = os.path.join(f\"/dfs/comicai/chenyu.liu/ugc_generate_sample/input_images/{input_img_folder_name}\", f\"{cid}.png\")\n",
    "        if not os.path.exists(wishwell_character_image_save_path):\n",
    "            loaded_image.save(wishwell_character_image_save_path)\n",
    "        # print(\"character_info_data:\", character_info_data)\n",
    "    else:\n",
    "        print(\"Failed to retrieve character_info_data. Status code:\", character_info_response.status_code)\n",
    "\n",
    "\n",
    "    if title == \"wishwell\":\n",
    "        wishwell_prompt_url = \"https://api-internal.linke.ai/internal/character/wishwell/prompt\"\n",
    "        wishwell_prompt_params = {\n",
    "            \"character_id\": cid\n",
    "        }\n",
    "        wishwell_prompt_response = requests.get(wishwell_prompt_url, params=wishwell_prompt_params)\n",
    "        if wishwell_prompt_response.status_code == 200:\n",
    "            wishwell_prompt_data = wishwell_prompt_response.json()\n",
    "            wishwell_dict[cid] = wishwell_prompt_data[\"list\"]\n",
    "            # print(\"wishwell_prompt_data: \", wishwell_prompt_data)\n",
    "        else:\n",
    "            print(\"Failed to retrieve character_info_data. Status code:\", wishwell_prompt_response.status_code)\n",
    "\n",
    "if title == \"wishwell\":\n",
    "    wishwell_dict_path = f\"/dfs/comicai/chenyu.liu/ugc_generate_sample/configs/input_jsons/{input_img_folder_name}_dict.json\"\n",
    "    for wishwell_cid in tqdm(appointed_NPC_names):\n",
    "        get_character_info(wishwell_cid)\n",
    "    with open(wishwell_dict_path, 'w', encoding='utf-8') as file:\n",
    "        file.write(json.dumps(wishwell_dict, indent=4, ensure_ascii=False))\n",
    "    print(\"wishwell_dict: \", wishwell_dict)\n",
    "else:\n",
    "    for chat_cid in tqdm(appointed_NPC_names):\n",
    "        get_character_info(chat_cid)"
   ]
  },
  {
   "cell_type": "markdown",
   "metadata": {},
   "source": [
    "## 2. 根据NPC_names.txt中的图片id得到style_dict.json（chat、wishwell、MGC）和prompt_dict.json（MGC）"
   ]
  },
  {
   "cell_type": "code",
   "execution_count": 24,
   "metadata": {},
   "outputs": [],
   "source": [
    "# （chat、wishwell、MGC）根据temp_files/NPC_names.txt，为每个图片分配一个初始化的风格，得到xxxx_images_style_dict.json\n",
    "# 注意：\n",
    "# 修改前面几个参数\n",
    "# 修改注释\n",
    "# 修改最后的style_dict.json路径，vim chat_images_1_style_dict.json、chmod -R 777 chat_images_1_style_dict.json\n",
    "\n",
    "import json\n",
    "\n",
    "mode = \"MGC\"\n",
    "round_num = 1\n",
    "NPCs_folder_name = f\"{mode}_images_{round_num}\"\n",
    "style_list = [\"美漫\", \"美漫2\", \"美漫new\", \"talkie_美漫\", \"日漫\", \"风格混合\"]\n",
    "\n",
    "NPC_style_dict = {}\n",
    "NPC_names_list = []\n",
    "\n",
    "with open('temp_files/NPC_names.txt', 'r') as file:\n",
    "    for line in file:\n",
    "        tag = line.strip()\n",
    "        NPC_names_list.append(tag)\n",
    "NPC_names_list = sorted(NPC_names_list)\n",
    "\n",
    "for i, NPC_name in enumerate(NPC_names_list):\n",
    "    # （chat、wishwell）\n",
    "    if mode in [\"chat\", \"wishwell\"]:\n",
    "        NPC_style_dict[NPC_name] = style_list[i % len(style_list)]\n",
    "    # （MGC）\n",
    "    elif mode in [\"MGC\"]:\n",
    "        NPC_style_dict[NPC_name] = \"美漫new\"\n",
    "\n",
    "with open(f'/dfs/comicai/chenyu.liu/ugc_generate_sample/configs/input_jsons/{NPCs_folder_name}_style_dict.json', 'w', encoding='utf-8') as file:\n",
    "    file.write(json.dumps(NPC_style_dict, indent=4, ensure_ascii=False))\n"
   ]
  },
  {
   "cell_type": "code",
   "execution_count": 1,
   "metadata": {},
   "outputs": [
    {
     "name": "stderr",
     "output_type": "stream",
     "text": [
      "100%|██████████| 1000/1000 [00:00<00:00, 615090.78it/s]"
     ]
    },
    {
     "name": "stdout",
     "output_type": "stream",
     "text": [
      "no_prompt_num:  93\n"
     ]
    },
    {
     "name": "stderr",
     "output_type": "stream",
     "text": [
      "\n"
     ]
    }
   ],
   "source": [
    "# （MGC）从给定的“待优化MGC图片清单+picture prompt.xlsx”中得到给定的prompt，存到xxxx_images_prompt_dict.json中（目前是许愿池生图时候，card_type=2或者3会有给定的prompt，card_type=1会用CV侧组合的prompt）\n",
    "# 注意：\n",
    "# 修改几个路径\n",
    "\n",
    "# conda activate comic\n",
    "import json\n",
    "import os\n",
    "from PIL import Image, ImageDraw\n",
    "import matplotlib.pyplot as plt\n",
    "import requests\n",
    "import glob\n",
    "from io import BytesIO\n",
    "import openpyxl\n",
    "from tqdm import tqdm\n",
    "# import demoji\n",
    "import re\n",
    "\n",
    "mode = \"MGC\"\n",
    "round_num = 1\n",
    "NPCs_folder_name = f\"{mode}_images_{round_num}\"\n",
    "NPC_prompt_dict = {}\n",
    "wb = openpyxl.load_workbook(\"/dfs/comicai/chenyu.liu/others/temp_files/sort_merged_xingye_extract_0301_weighted_head1k.xlsx\")\n",
    "ws = wb[\"with pic prompt\"]\n",
    "\n",
    "no_prompt_num = 0\n",
    "for r in tqdm(range(2,1002)):\n",
    "    id = str(ws.cell(row=r,column=1).value)\n",
    "    prompt = ws.cell(row=r,column=14).value\n",
    "    if prompt == None:\n",
    "        no_prompt_num += 1\n",
    "        prompt = ws.cell(row=r,column=13).value\n",
    "        if prompt == None:\n",
    "            prompt = \"a girl\"\n",
    "    # prompt += \",front light, natural lighting\"\n",
    "    NPC_prompt_dict[id] = prompt\n",
    "\n",
    "print(\"no_prompt_num: \", no_prompt_num)\n",
    "\n",
    "    # if r == 4:\n",
    "    #     print(\"NPC_prompt_dict: \", NPC_prompt_dict)\n",
    "    #     break\n",
    "\n",
    "with open(f'/dfs/comicai/chenyu.liu/ugc_generate_sample/configs/input_jsons/{NPCs_folder_name}_prompt_dict.json', 'w', encoding='utf-8') as file:\n",
    "    file.write(json.dumps(NPC_prompt_dict, indent=4, ensure_ascii=False))\n"
   ]
  },
  {
   "cell_type": "markdown",
   "metadata": {},
   "source": [
    "# 开始生图"
   ]
  },
  {
   "cell_type": "markdown",
   "metadata": {},
   "source": [
    "## 3. 查看生成的数量情况"
   ]
  },
  {
   "cell_type": "code",
   "execution_count": null,
   "metadata": {},
   "outputs": [],
   "source": [
    "# 查看生成的整合三种情况数量情况\n",
    "\n",
    "import os\n",
    "import json\n",
    "\n",
    "title = \"chat\" # MGC, \"wishwell\", \"chat\"\n",
    "round_num = 2\n",
    "input_img_folder_name = f\"{title}_images_{round_num}\"\n",
    "give2tag_batch_nums = 40\n",
    "if title in [\"wishwell\"]:\n",
    "    generate_num_list = {}\n",
    "    card_1_generate_num = 10\n",
    "if title in [\"MGC\", \"chat\"]:\n",
    "    generate_num = 30\n",
    "    each_num_imgs = 4\n",
    "\n",
    "input_image_path = f\"/dfs/comicai/chenyu.liu/ugc_generate_sample/input_images/{input_img_folder_name}\"\n",
    "if title in [\"MGC\", \"chat\"]:\n",
    "    name_json_path = f\"/dfs/comicai/chenyu.liu/ugc_generate_sample/configs/input_jsons/{input_img_folder_name}_style_dict.json\"\n",
    "if title in [\"wishwell\"]:\n",
    "    name_json_path = f\"/dfs/comicai/chenyu.liu/ugc_generate_sample/configs/input_jsons/{input_img_folder_name}_dict.json\"\n",
    "tag_json_path = f\"/dfs/comicai/chenyu.liu/others/show_url_imgs_gradio/output/json/{input_img_folder_name}_tag.json\"\n",
    "output_path = f\"/dfs/comicai/chenyu.liu/ugc_generate_sample/output_images/{input_img_folder_name}\"\n",
    "\n",
    "all_img_names = []\n",
    "tagged_img_names = []\n",
    "need_regenerate_img_names = []\n",
    "now_img_names = []\n",
    "now_ready2tag_img_names = []\n",
    "now_lack_img_names = []\n",
    "no_img_names = []\n",
    "give2tag_img_names = []\n",
    "give2tag_img_names_1 = []\n",
    "give2tag_img_names_2 = []\n",
    "\n",
    "input_img_nums = len(os.listdir(input_image_path))\n",
    "\n",
    "with open(name_json_path, 'r') as f:\n",
    "    data = json.load(f)\n",
    "    all_img_names = sorted(list(data.keys()))\n",
    "    if title in [\"wishwell\"]:\n",
    "        for k, v in data.items():\n",
    "            generate_num_list[k] = len(v) + card_1_generate_num\n",
    "\n",
    "if os.path.exists(tag_json_path):\n",
    "    with open(tag_json_path, 'r') as f:\n",
    "        data = json.load(f)\n",
    "        tagged_img_names = sorted(list(data.keys()))\n",
    "else:\n",
    "    tagged_img_names = []\n",
    "# with open(tag_json_path, 'r') as f:\n",
    "#     data = json.load(f)\n",
    "#     tagged_img_names = sorted(list(data.keys()))\n",
    "#     tagged_img_names = []\n",
    "    \n",
    "now_img_names = sorted(os.listdir(output_path))\n",
    "\n",
    "no_img_names = [all_img_name for all_img_name in all_img_names if all_img_name not in now_img_names]\n",
    "no_img_names = sorted(no_img_names)\n",
    "\n",
    "if title in [\"MGC\", \"chat\"]:\n",
    "    for now_img_name in now_img_names:\n",
    "        img_num_folders = os.listdir(os.path.join(output_path, now_img_name))\n",
    "        img_num_folders = [img_num_folder for img_num_folder in img_num_folders if img_num_folder.split('.')[-1] != 'json']\n",
    "        each_num_imgs_enough = True\n",
    "        for img_num_folder in img_num_folders:\n",
    "            if len(os.listdir(os.path.join(output_path, now_img_name, img_num_folder))) != each_num_imgs:\n",
    "                each_num_imgs_enough = False\n",
    "                break\n",
    "        if len(os.listdir(os.path.join(output_path, now_img_name))) == generate_num + 1 and each_num_imgs_enough and now_img_name not in tagged_img_names and now_img_name not in need_regenerate_img_names: # 其中那个1是.json\n",
    "            now_ready2tag_img_names.append(now_img_name)\n",
    "if title in [\"wishwell\"]:\n",
    "    for now_img_name in now_img_names:\n",
    "        if len(os.listdir(os.path.join(output_path, now_img_name))) == generate_num_list[now_img_name] + 1 and now_img_name not in tagged_img_names and now_img_name not in need_regenerate_img_names: # 其中那个1是.json\n",
    "            now_ready2tag_img_names.append(now_img_name)\n",
    "\n",
    "now_ready2tag_img_names = sorted(now_ready2tag_img_names)\n",
    "\n",
    "now_lack_img_names = [now_img_name for now_img_name in now_img_names if now_img_name not in now_ready2tag_img_names]\n",
    "now_lack_img_names = sorted(now_lack_img_names)\n",
    "\n",
    "if len(now_ready2tag_img_names) != 0:\n",
    "    if len(now_ready2tag_img_names) >= give2tag_batch_nums:\n",
    "        give2tag_img_names = now_ready2tag_img_names[:give2tag_batch_nums]\n",
    "        give2tag_img_names_1 = give2tag_img_names[:give2tag_batch_nums//2]\n",
    "        give2tag_img_names_2 = give2tag_img_names[give2tag_batch_nums//2:]\n",
    "    else:\n",
    "        give2tag_img_names_1 = now_ready2tag_img_names\n",
    "else:\n",
    "    print(\"There are no NPCS to tag yet\")\n",
    "\n",
    "all_gen_done = (len(all_img_names) == len(now_ready2tag_img_names))\n",
    "\n",
    "print(f\"input_img_nums: {input_img_nums}\")\n",
    "print(f\"all_img_names: {len(all_img_names)}\\n{all_img_names}\")\n",
    "print(f\"tagged_img_names: {len(tagged_img_names)}\\n{tagged_img_names}\")\n",
    "print(f\"need_regenerate_img_names: {len(need_regenerate_img_names)}\\n{need_regenerate_img_names}\")\n",
    "print(f\"now_img_names: {len(now_img_names)}\\n{now_img_names}\")\n",
    "print(f\"now_ready2tag_img_names: {len(now_ready2tag_img_names)}\\n{now_ready2tag_img_names}\")\n",
    "print(f\"now_lack_img_names: {len(now_lack_img_names)}\\n{now_lack_img_names}\")\n",
    "print(f\"no_img_names: {len(no_img_names)}\\n{no_img_names}\")\n",
    "print(f\"give2tag_img_names: {len(give2tag_img_names)}\\n{give2tag_img_names}\")\n",
    "print(f\"give2tag_img_names_1: {len(give2tag_img_names_1)}\\n{give2tag_img_names_1}\")\n",
    "print(f\"give2tag_img_names_2: {len(give2tag_img_names_2)}\\n{give2tag_img_names_2}\")\n",
    "print(f\"all_gen_done: {all_gen_done}\")\n",
    "\n"
   ]
  },
  {
   "cell_type": "code",
   "execution_count": null,
   "metadata": {},
   "outputs": [],
   "source": [
    "# （MGC）查看生成的数量情况\n",
    "\n",
    "import os\n",
    "import json\n",
    "\n",
    "give2tag_batch_nums = 40\n",
    "generate_num = 1\n",
    "each_num_imgs = 3\n",
    "round_num = 1\n",
    "input_image_path = f\"/dfs/comicai/chenyu.liu/ugc_generate_sample/input_images/MGC_images_{round_num}\"\n",
    "name_json_path = f\"/dfs/comicai/chenyu.liu/ugc_generate_sample/configs/input_jsons/MGC_images_{round_num}_style_dict.json\"\n",
    "tag_json_path = f\"/dfs/comicai/chenyu.liu/others/show_url_imgs_gradio/output/json/MGC_images_{round_num}_tag.json\"\n",
    "output_path = f\"/dfs/comicai/chenyu.liu/ugc_generate_sample/output_images/MGC_images_{round_num}\"\n",
    "\n",
    "all_img_names = []\n",
    "tagged_img_names = []\n",
    "need_regenerate_img_names = []\n",
    "now_img_names = []\n",
    "now_ready2tag_img_names = []\n",
    "now_lack_img_names = []\n",
    "no_img_names = []\n",
    "give2tag_img_names = []\n",
    "give2tag_img_names_1 = []\n",
    "give2tag_img_names_2 = []\n",
    "\n",
    "input_img_nums = len(os.listdir(input_image_path))\n",
    "\n",
    "with open(name_json_path, 'r') as f:\n",
    "    data = json.load(f)\n",
    "    all_img_names = sorted(list(data.keys()))\n",
    "\n",
    "if os.path.exists(tag_json_path):\n",
    "    with open(tag_json_path, 'r') as f:\n",
    "        data = json.load(f)\n",
    "        tagged_img_names = sorted(list(data.keys()))\n",
    "else:\n",
    "    tagged_img_names = []\n",
    "# with open(tag_json_path, 'r') as f:\n",
    "#     data = json.load(f)\n",
    "#     tagged_img_names = sorted(list(data.keys()))\n",
    "#     tagged_img_names = []\n",
    "    \n",
    "now_img_names = sorted(os.listdir(output_path))\n",
    "\n",
    "no_img_names = [all_img_name for all_img_name in all_img_names if all_img_name not in now_img_names]\n",
    "no_img_names = sorted(no_img_names)\n",
    "\n",
    "for now_img_name in now_img_names:\n",
    "    img_num_folders = os.listdir(os.path.join(output_path, now_img_name))\n",
    "    img_num_folders = [img_num_folder for img_num_folder in img_num_folders if img_num_folder.split('.')[-1] != 'json']\n",
    "    each_num_imgs_enough = True\n",
    "    for img_num_folder in img_num_folders:\n",
    "        if len(os.listdir(os.path.join(output_path, now_img_name, img_num_folder))) != each_num_imgs:\n",
    "            each_num_imgs_enough = False\n",
    "            break\n",
    "\n",
    "    if len(os.listdir(os.path.join(output_path, now_img_name))) == generate_num + 1 and each_num_imgs_enough and now_img_name not in tagged_img_names and now_img_name not in need_regenerate_img_names: # 其中那个1是.json\n",
    "        now_ready2tag_img_names.append(now_img_name)\n",
    "now_ready2tag_img_names = sorted(now_ready2tag_img_names)\n",
    "\n",
    "now_lack_img_names = [now_img_name for now_img_name in now_img_names if now_img_name not in now_ready2tag_img_names]\n",
    "now_lack_img_names = sorted(now_lack_img_names)\n",
    "\n",
    "if len(now_ready2tag_img_names) != 0:\n",
    "    if len(now_ready2tag_img_names) >= give2tag_batch_nums:\n",
    "        give2tag_img_names = now_ready2tag_img_names[:give2tag_batch_nums]\n",
    "        give2tag_img_names_1 = give2tag_img_names[:give2tag_batch_nums//2]\n",
    "        give2tag_img_names_2 = give2tag_img_names[give2tag_batch_nums//2:]\n",
    "    else:\n",
    "        give2tag_img_names_1 = now_ready2tag_img_names\n",
    "else:\n",
    "    print(\"There are no NPCS to tag yet\")\n",
    "\n",
    "all_gen_done = (len(all_img_names) == len(now_ready2tag_img_names))\n",
    "\n",
    "print(f\"input_img_nums: {input_img_nums}\")\n",
    "print(f\"all_img_names: {len(all_img_names)}\\n{all_img_names}\")\n",
    "print(f\"tagged_img_names: {len(tagged_img_names)}\\n{tagged_img_names}\")\n",
    "print(f\"need_regenerate_img_names: {len(need_regenerate_img_names)}\\n{need_regenerate_img_names}\")\n",
    "print(f\"now_img_names: {len(now_img_names)}\\n{now_img_names}\")\n",
    "print(f\"now_ready2tag_img_names: {len(now_ready2tag_img_names)}\\n{now_ready2tag_img_names}\")\n",
    "print(f\"now_lack_img_names: {len(now_lack_img_names)}\\n{now_lack_img_names}\")\n",
    "print(f\"no_img_names: {len(no_img_names)}\\n{no_img_names}\")\n",
    "print(f\"give2tag_img_names: {len(give2tag_img_names)}\\n{give2tag_img_names}\")\n",
    "print(f\"give2tag_img_names_1: {len(give2tag_img_names_1)}\\n{give2tag_img_names_1}\")\n",
    "print(f\"give2tag_img_names_2: {len(give2tag_img_names_2)}\\n{give2tag_img_names_2}\")\n",
    "print(f\"all_gen_done: {all_gen_done}\")\n"
   ]
  },
  {
   "cell_type": "code",
   "execution_count": null,
   "metadata": {},
   "outputs": [],
   "source": [
    "# （wishwell）查看生成的数量情况\n",
    "\n",
    "import os\n",
    "import json\n",
    "\n",
    "give2tag_batch_nums = 2\n",
    "generate_num_list = {}\n",
    "card_1_generate_num = 10\n",
    "round_num = 1\n",
    "input_image_path = f\"/dfs/comicai/chenyu.liu/ugc_generate_sample/input_images/wishwell_images_{round_num}\"\n",
    "name_json_path = f\"/dfs/comicai/chenyu.liu/ugc_generate_sample/configs/input_jsons/wishwell_dict_{round_num}.json\"\n",
    "tag_json_path = f\"/dfs/comicai/chenyu.liu/others/show_url_imgs_gradio/output/json/wishwell_images_{round_num}_tag.json\"\n",
    "output_path = f\"/dfs/comicai/chenyu.liu/ugc_generate_sample/output_images/wishwell_images_{round_num}\"\n",
    "\n",
    "all_img_names = []\n",
    "tagged_img_names = []\n",
    "need_regenerate_img_names = []\n",
    "now_img_names = []\n",
    "now_ready2tag_img_names = []\n",
    "now_lack_img_names = []\n",
    "no_img_names = []\n",
    "give2tag_img_names = []\n",
    "give2tag_img_names_1 = []\n",
    "give2tag_img_names_2 = []\n",
    "\n",
    "input_img_nums = len(os.listdir(input_image_path))\n",
    "\n",
    "with open(name_json_path, 'r') as f:\n",
    "    data = json.load(f)\n",
    "    all_img_names = sorted(list(data.keys()))\n",
    "    for k, v in data.items():\n",
    "        generate_num_list[k] = len(v) + card_1_generate_num\n",
    "\n",
    "if os.path.exists(tag_json_path):\n",
    "    with open(tag_json_path, 'r') as f:\n",
    "        data = json.load(f)\n",
    "        tagged_img_names = sorted(list(data.keys()))\n",
    "else:\n",
    "    tagged_img_names = []\n",
    "    \n",
    "now_img_names = sorted(os.listdir(output_path))\n",
    "\n",
    "no_img_names = [all_img_name for all_img_name in all_img_names if all_img_name not in now_img_names]\n",
    "no_img_names = sorted(no_img_names)\n",
    "\n",
    "for now_img_name in now_img_names:\n",
    "    if len(os.listdir(os.path.join(output_path, now_img_name))) == generate_num_list[now_img_name] + 1 and now_img_name not in tagged_img_names and now_img_name not in need_regenerate_img_names: # 其中那个1是.json\n",
    "        now_ready2tag_img_names.append(now_img_name)\n",
    "now_ready2tag_img_names = sorted(now_ready2tag_img_names)\n",
    "\n",
    "now_lack_img_names = [now_img_name for now_img_name in now_img_names if now_img_name not in now_ready2tag_img_names]\n",
    "now_lack_img_names = sorted(now_lack_img_names)\n",
    "\n",
    "if len(now_ready2tag_img_names) != 0:\n",
    "    if len(now_ready2tag_img_names) >= give2tag_batch_nums:\n",
    "        give2tag_img_names = now_ready2tag_img_names[:give2tag_batch_nums]\n",
    "        give2tag_img_names_1 = give2tag_img_names[:give2tag_batch_nums//2]\n",
    "        give2tag_img_names_2 = give2tag_img_names[give2tag_batch_nums//2:]\n",
    "    else:\n",
    "        give2tag_img_names_1 = now_ready2tag_img_names\n",
    "else:\n",
    "    print(\"There are no NPCS to tag yet\")\n",
    "\n",
    "all_gen_done = (len(all_img_names) == len(now_ready2tag_img_names))\n",
    "\n",
    "print(f\"input_img_nums: {input_img_nums}\")\n",
    "print(f\"all_img_names: {len(all_img_names)}\\n{all_img_names}\")\n",
    "print(f\"tagged_img_names: {len(tagged_img_names)}\\n{tagged_img_names}\")\n",
    "print(f\"need_regenerate_img_names: {len(need_regenerate_img_names)}\\n{need_regenerate_img_names}\")\n",
    "print(f\"now_img_names: {len(now_img_names)}\\n{now_img_names}\")\n",
    "print(f\"now_ready2tag_img_names: {len(now_ready2tag_img_names)}\\n{now_ready2tag_img_names}\")\n",
    "print(f\"now_lack_img_names: {len(now_lack_img_names)}\\n{now_lack_img_names}\")\n",
    "print(f\"no_img_names: {len(no_img_names)}\\n{no_img_names}\")\n",
    "print(f\"give2tag_img_names: {len(give2tag_img_names)}\\n{give2tag_img_names}\")\n",
    "print(f\"give2tag_img_names_1: {len(give2tag_img_names_1)}\\n{give2tag_img_names_1}\")\n",
    "print(f\"give2tag_img_names_2: {len(give2tag_img_names_2)}\\n{give2tag_img_names_2}\")\n",
    "print(f\"all_gen_done: {all_gen_done}\")\n"
   ]
  },
  {
   "cell_type": "code",
   "execution_count": null,
   "metadata": {},
   "outputs": [],
   "source": [
    "# （chat）查看生成的数量情况\n",
    "\n",
    "import os\n",
    "import json\n",
    "\n",
    "give2tag_batch_nums = 40\n",
    "generate_num = 30\n",
    "each_num_imgs = 4\n",
    "round_num = 1\n",
    "input_image_path = f\"/dfs/comicai/chenyu.liu/ugc_generate_sample/input_images/chat_images_{round_num}\"\n",
    "name_json_path = f\"/dfs/comicai/chenyu.liu/ugc_generate_sample/configs/input_jsons/chat_images_{round_num}_style_dict.json\"\n",
    "tag_json_path = f\"/dfs/comicai/chenyu.liu/others/show_url_imgs_gradio/output/json/chat_images_{round_num}_tag.json\"\n",
    "output_path = f\"/dfs/comicai/chenyu.liu/ugc_generate_sample/output_images/chat_images_{round_num}\"\n",
    "\n",
    "all_img_names = []\n",
    "tagged_img_names = []\n",
    "need_regenerate_img_names = []\n",
    "now_img_names = []\n",
    "now_ready2tag_img_names = []\n",
    "now_lack_img_names = []\n",
    "no_img_names = []\n",
    "give2tag_img_names = []\n",
    "give2tag_img_names_1 = []\n",
    "give2tag_img_names_2 = []\n",
    "\n",
    "input_img_nums = len(os.listdir(input_image_path))\n",
    "\n",
    "with open(name_json_path, 'r') as f:\n",
    "    data = json.load(f)\n",
    "    all_img_names = sorted(list(data.keys()))\n",
    "\n",
    "if os.path.exists(tag_json_path):\n",
    "    with open(tag_json_path, 'r') as f:\n",
    "        data = json.load(f)\n",
    "        tagged_img_names = sorted(list(data.keys()))\n",
    "else:\n",
    "    tagged_img_names = []\n",
    "# with open(tag_json_path, 'r') as f:\n",
    "#     data = json.load(f)\n",
    "#     tagged_img_names = sorted(list(data.keys()))\n",
    "#     tagged_img_names = []\n",
    "    \n",
    "now_img_names = sorted(os.listdir(output_path))\n",
    "\n",
    "no_img_names = [all_img_name for all_img_name in all_img_names if all_img_name not in now_img_names]\n",
    "no_img_names = sorted(no_img_names)\n",
    "\n",
    "for now_img_name in now_img_names:\n",
    "    img_num_folders = os.listdir(os.path.join(output_path, now_img_name))\n",
    "    img_num_folders = [img_num_folder for img_num_folder in img_num_folders if img_num_folder.split('.')[-1] != 'json']\n",
    "    each_num_imgs_enough = True\n",
    "    for img_num_folder in img_num_folders:\n",
    "        if len(os.listdir(os.path.join(output_path, now_img_name, img_num_folder))) != each_num_imgs:\n",
    "            each_num_imgs_enough = False\n",
    "            break\n",
    "\n",
    "    if len(os.listdir(os.path.join(output_path, now_img_name))) == generate_num + 1 and each_num_imgs_enough and now_img_name not in tagged_img_names and now_img_name not in need_regenerate_img_names: # 其中那个1是.json\n",
    "        now_ready2tag_img_names.append(now_img_name)\n",
    "now_ready2tag_img_names = sorted(now_ready2tag_img_names)\n",
    "\n",
    "now_lack_img_names = [now_img_name for now_img_name in now_img_names if now_img_name not in now_ready2tag_img_names]\n",
    "now_lack_img_names = sorted(now_lack_img_names)\n",
    "\n",
    "if len(now_ready2tag_img_names) != 0:\n",
    "    if len(now_ready2tag_img_names) >= give2tag_batch_nums:\n",
    "        give2tag_img_names = now_ready2tag_img_names[:give2tag_batch_nums]\n",
    "        give2tag_img_names_1 = give2tag_img_names[:give2tag_batch_nums//2]\n",
    "        give2tag_img_names_2 = give2tag_img_names[give2tag_batch_nums//2:]\n",
    "    else:\n",
    "        give2tag_img_names_1 = now_ready2tag_img_names\n",
    "else:\n",
    "    print(\"There are no NPCS to tag yet\")\n",
    "\n",
    "all_gen_done = (len(all_img_names) == len(now_ready2tag_img_names))\n",
    "\n",
    "print(f\"input_img_nums: {input_img_nums}\")\n",
    "print(f\"all_img_names: {len(all_img_names)}\\n{all_img_names}\")\n",
    "print(f\"tagged_img_names: {len(tagged_img_names)}\\n{tagged_img_names}\")\n",
    "print(f\"need_regenerate_img_names: {len(need_regenerate_img_names)}\\n{need_regenerate_img_names}\")\n",
    "print(f\"now_img_names: {len(now_img_names)}\\n{now_img_names}\")\n",
    "print(f\"now_ready2tag_img_names: {len(now_ready2tag_img_names)}\\n{now_ready2tag_img_names}\")\n",
    "print(f\"now_lack_img_names: {len(now_lack_img_names)}\\n{now_lack_img_names}\")\n",
    "print(f\"no_img_names: {len(no_img_names)}\\n{no_img_names}\")\n",
    "print(f\"give2tag_img_names: {len(give2tag_img_names)}\\n{give2tag_img_names}\")\n",
    "print(f\"give2tag_img_names_1: {len(give2tag_img_names_1)}\\n{give2tag_img_names_1}\")\n",
    "print(f\"give2tag_img_names_2: {len(give2tag_img_names_2)}\\n{give2tag_img_names_2}\")\n",
    "print(f\"all_gen_done: {all_gen_done}\")\n"
   ]
  },
  {
   "cell_type": "code",
   "execution_count": null,
   "metadata": {},
   "outputs": [
    {
     "ename": "",
     "evalue": "",
     "output_type": "error",
     "traceback": [
      "\u001b[1;31m运行具有“webui”的单元格需要ipykernel包。\n",
      "\u001b[1;31m运行以下命令，将 \"ipykernel\" 安装到 Python 环境中。\n",
      "\u001b[1;31m命令: \"conda install -n webui ipykernel --update-deps --force-reinstall\""
     ]
    }
   ],
   "source": [
    "# 查看还有多少没有生成的\n",
    "remaining_NPC_names = []\n",
    "\n",
    "# all_img_names = ['10003', '10022', '10077', '10180', '10241', '11499', '11587', '11654', '11678', '11680', '12560', '12748', '12777', '12979', '13386', '13433', '13450', '13490', '13531', '13860', '14134', '14288', '14358', '14388', '20930', '21171', '21414', '21738', '21873', '22342', '22441', '22956', '23410', '23461', '23462', '23465', '23579', '23618', '24071', '2814749767106565', '2814749767106572', '2814749767106590', '2814749767106773', '2814749767106815', '2814749767106835', '527', '544', '9939']\n",
    "all_img_names = ['10002', '10003', '10006', '10015', '10020', '10022', '10030', '10039', '10044', '10049', '10063', '10071', '10077', '10082', '10084', '10093', '10098', '10099', '10122', '10126', '10131', '10136', '10142', '10169', '10174', '10179', '10180', '10196', '10197', '10200', '10207', '10210', '10211', '10216', '10222', '10233', '10241', '10244', '10258', '10268', '10291', '10339', '10344', '10345', '10349', '10357', '10364', '10379', '10383', '10388', '10393', '10398', '10423', '10431', '10439', '10462', '10468', '10469', '10476', '10483', '10496', '10499', '10501', '10523', '10553', '10557', '10563', '10569', '10590', '10601', '10606', '10609', '10614', '10618', '10625', '10627', '10630', '10631', '10632', '10641', '10647', '10649', '10683', '10717', '10729', '10741', '10751', '10758', '10775', '10784', '10786', '10793', '10795', '10807', '10812', '10816', '10817', '10824', '10826', '10835', '10845', '10855', '10859', '10877', '10883', '10885', '10891', '10899', '10910', '10913', '10924', '10936', '10959', '10960', '10971', '10974', '10986', '10988', '11021', '11033', '11052', '11063', '11065', '11087', '11088', '11095', '11105', '11143', '11150', '11156', '11160', '11168', '11172', '11175', '11182', '11183', '11205', '11278', '11317', '11336', '11349', '11499', '11500', '11522', '11536', '11539', '11587', '11611', '11613', '11629', '11648', '11654', '11674', '11678', '11680', '11691', '11724', '11783', '11810', '11840', '11863', '11878', '11900', '11911', '11937', '12035', '12084', '12130', '12139', '12204', '12297', '12307', '12317', '12319', '12323', '12378', '12404', '12407', '12408', '12412', '12416', '12443', '12460', '12531', '12537', '12546', '12560', '12569', '12572', '12581', '12583', '12586', '12605', '12621', '12681', '12687', '12695', '12707', '12723', '12729', '12731', '12748', '12759', '12770', '12777', '12890', '12894', '12919', '12926', '12935', '12941', '12947', '12950', '12952', '12969', '12979', '12986', '12990', '13000', '13001', '13002', '13005', '13007', '13009', '13012', '13014', '13020', '13021', '13023', '13028', '13041', '13048', '13050', '13051', '13062', '13075', '13082', '13090', '13099', '13102', '13105', '13106', '13107', '13113', '13124', '13134', '13136', '13164', '13173', '13196', '13202', '13206', '13207', '13208', '13212', '13215', '13217', '13221', '13223', '13224', '13226', '13228', '13231', '13233', '13248', '13252', '13305', '13309', '13315', '13343', '13365', '13377', '13386', '13427', '13433', '13434', '13439', '13450', '13458', '13461', '13467', '13477', '13487', '13490', '13496', '13531', '13560', '13565', '13596', '13599', '13611', '13624', '13640', '13658', '13666', '13676', '13684', '13687', '13689', '13690', '13745', '13747', '13751', '13758', '13764', '13818', '13825', '13834', '13859', '13860', '13929', '13964', '14030', '14044', '14047', '14134', '14146', '14152', '14168', '14191', '14197', '14199', '14212', '14217', '14222', '14224', '14231', '14238', '14240', '14248', '14261', '14262', '14267', '14270', '14273', '14276', '14288', '14295', '14309', '14327', '14332', '14337', '14341', '14358', '14388', '14393', '14402', '14409', '14411', '14439', '14449', '18526', '20780', '20797', '20811', '20818', '20820', '20822', '20830', '20857', '20878', '20909', '20918', '20919', '20920', '20921', '20922', '20923', '20930', '20943', '20944', '20962', '20969', '21014', '21031', '21034', '21071', '21076', '21125', '21133', '21134', '21145', '21151', '21156', '21165', '21171', '21190', '21191', '21193', '21229', '21251', '21317', '21334', '21374', '21414', '21441', '21443', '21458', '21480', '21507', '21509', '21511', '21520', '21528', '21566', '21627', '21676', '21685', '21713', '21726', '21735', '21738', '21816', '21846', '21873', '21901', '21904', '21906', '21916', '21923', '21942', '21981', '22008', '22024', '22035', '22088', '22102', '22142', '22158', '22170', '22250', '22261', '22263', '22264', '22265', '22268', '22270', '22280', '22298', '22300', '22305', '22307', '22308', '22311', '22312', '22314', '22317', '22319', '22320', '22321', '22323', '22325', '22326', '22327', '22329', '22330', '22331', '22333', '22337', '22341', '22342', '22343', '22347', '22352', '22356', '22358', '22362', '22366', '22369', '22375', '22378', '22385', '22386', '22392', '22394', '22395', '22397', '22408', '22410', '22419', '22420', '22422', '22424', '22426', '22437', '22441', '22444', '22457', '22464', '22470', '22486', '22499', '22501', '22502', '22522', '22531', '22535', '22538', '22547', '22560', '22578', '22584', '22588', '22589', '22613', '22616', '22617', '22619', '22626', '22628', '22631', '22633', '22634', '22635', '22643', '22664', '22678', '22684', '22695', '22704', '22739', '22759', '22855', '22859', '22863', '22867', '22868', '22873', '22876', '22885', '22890', '22900', '22907', '22937', '22939', '22950', '22956', '22960', '22965', '22969', '22980', '23035', '23036', '23053', '23060', '23066', '23069', '23073', '23078', '23080', '23082', '23090', '23095', '23099', '23104', '23108', '23110', '23113', '23124', '23132', '23141', '23148', '23157', '23160', '23163', '23164', '23172', '23185', '23201', '23204', '23236', '23260', '23262', '23266', '23270', '23271', '23272', '23274', '23288', '23292', '23297', '23299', '23315', '23319', '23324', '23327', '23329', '23333', '23341', '23342', '23344', '23350', '23351', '23352', '23353', '23372', '23378', '23387', '23389', '23391', '23392', '23393', '23394', '23395', '23398', '23399', '23405', '23406', '23410', '23422', '23426', '23427', '23429', '23430', '23432', '23433', '23434', '23455', '23457', '23458', '23460', '23461', '23462', '23463', '23464', '23465', '23469', '23471', '23483', '23485', '23486', '23495', '23496', '23502', '23504', '23507', '23508', '23509', '23512', '23514', '23529', '23532', '23534', '23536', '23544', '23548', '23552', '23556', '23557', '23572', '23573', '23578', '23579', '23582', '23592', '23595', '23604', '23609', '23615', '23618', '23623', '23624', '23626', '23628', '23632', '23635', '23638', '23643', '23649', '23662', '23663', '23664', '23666', '23667', '23677', '23679', '23681', '23692', '23703', '23704', '23706', '23712', '23714', '23720', '23723', '23727', '23728', '23731', '23740', '23754', '23756', '23760', '23766', '23788', '23793', '23795', '23798', '23800', '23802', '23809', '23812', '23818', '23821', '23827', '23828', '23835', '23845', '23848', '23855', '23860', '23867', '23868', '23869', '23873', '23878', '23880', '23887', '23888', '23889', '23891', '23897', '23900', '23908', '23915', '23919', '23934', '23942', '23944', '23946', '23953', '23983', '23993', '23994', '23997', '24000', '24004', '24006', '24011', '24016', '24018', '24019', '24055', '24056', '24066', '24067', '24071', '24079', '24081', '24226', '24255', '24260', '2533274790425142', '2533274790425162', '2533274790426462', '2533274790427726', '2533274790431065', '2533274790431097', '2533274790431654', '2533274790431770', '2533274790432369', '2533274790432771', '2533274790432972', '2533274790437310', '2533274790437522', '2533274790437859', '2533274790438374', '2533274790439117', '2533274790439606', '2533274790451514', '2533274790456395', '2533274790457833', '2533274790458175', '2814749767106562', '2814749767106565', '2814749767106571', '2814749767106572', '2814749767106574', '2814749767106582', '2814749767106586', '2814749767106590', '2814749767106592', '2814749767106595', '2814749767106599', '2814749767106638', '2814749767106673', '2814749767106679', '2814749767106703', '2814749767106726', '2814749767106729', '2814749767106735', '2814749767106748', '2814749767106759', '2814749767106772', '2814749767106773', '2814749767106778', '2814749767106815', '2814749767106816', '2814749767106824', '2814749767106829', '2814749767106834', '2814749767106835', '2814749767106843', '2814749767106849', '2814749767106853', '2814749767106856', '2814749767106866', '2814749767106870', '2814749767106897', '2814749767106898', '2814749767106899', '2814749767106902', '2814749767106909', '2814749767106915', '2814749767106921', '2814749767106925', '2814749767106926', '2814749767106927', '503', '507', '525', '526', '527', '532', '539', '540', '541', '542', '543', '544', '547', '880', '889', '9860', '9865', '9870', '9873', '9874', '9876', '9879', '9886', '9891', '9917', '9928', '9936', '9939', '9940', '9952', '9963', '9964', '9967', '9973', '9983', '9987', '9989']\n",
    "\n",
    "# ready2tag_img_names = ['10003', '10022', '10077', '10180', '10241', '11499', '11654', '11678', '11680', '12560', '12748', '12777', '12979', '13386', '13433', '11587']\n",
    "ready2tag_img_names = ['10003', '10006', '10015', '10022', '10174', '10179', '10180', '10196', '10197', '10200', '10207', '10210', '10469', '10496', '10499', '10501', '10523', '10553', '10557', '10563', '10569', '10590', '10601', '10606', '10609', '10824', '11033', '11052', '11063', '11065', '11087', '11088', '11095', '11105', '11143', '11150', '11156', '11160', '11674', '11678', '11691', '11724', '11783', '11810', '11840', '11863', '11878', '11900', '11911', '11937', '12035', '12084', '12130', '12139', '12581', '12583', '12586', '12605', '12621', '12681', '12687', '12695', '12707', '12723', '12729', '12731', '12748', '12759', '12770', '12777', '12890', '12894', '12919', '12926', '12935', '12941', '12947', '12950', '12952', '12969', '12979', '12986', '12990', '13000', '13001', '13002', '13005', '13007', '13009', '13012', '13014', '13020', '13021', '13023', '13028', '13041', '13048', '13050', '13051', '13062', '13075', '13082', '13090', '13099', '13102', '13105', '13106', '13107', '13113', '13124', '13134', '13136', '13164', '13173', '13196', '13202', '13206', '13207', '13208', '13212', '13215', '13217', '13221', '13223', '13224', '13226', '13228', '13231', '13233', '13248', '13252', '13305', '13309', '13315', '13343', '13365', '13377', '13386', '13427', '13433', '13434', '13439', '13450', '13458', '13461', '13467', '13477', '13487', '13490', '13496', '13531', '13560', '13565', '13596', '13599', '13611', '13624', '13640', '13658', '13666', '13676', '13684', '13687', '13689', '13690', '13745', '13747', '13751', '13758', '13764', '13818', '13825', '13834', '13859', '13860', '13929', '13964', '14030', '14044', '14047', '14134', '14146', '14152', '14168', '14191', '14197', '14199', '14212', '14217', '14222', '14224', '14231', '14238', '14240', '14248', '14261', '14262', '14267', '14270', '14273', '20930', '20943', '20944', '20962', '20969', '21014', '21031', '21034', '21071', '21076', '21125', '21133', '21134', '21145', '21151', '21156', '21165', '21171', '21190', '21191', '21193', '21229', '21251', '21317', '21334', '21374', '21414', '21441', '21443', '21458', '21480', '21507', '21509', '21511', '21520', '21528', '21566', '21627', '21676', '21685', '21713', '21726', '21735', '21738', '21816', '21846', '21873', '21901', '21904', '21906', '21916', '21923', '21942', '21981', '22008', '22024', '22035', '22088', '22102', '22142', '22158', '22170', '22250', '22261', '22263', '22264', '22265', '22268', '22270', '22280', '22298', '22300', '22305', '22307', '22308', '22311', '22312', '22314', '22317', '22319', '22320', '22321', '22323', '22325', '22326', '22327', '22329', '22330', '22331', '22333', '22337', '22341', '22342', '22343', '22347', '22352', '22356', '22358', '22362', '22366', '22369', '22375', '22378', '22385', '22386', '22392', '22394', '22395', '22397', '22408', '22410', '22419', '22420', '22422', '22424', '22426', '22437', '22441', '22444', '22457', '22464', '22470', '22486', '22499', '22501', '22502', '22522', '22531', '22535', '22538', '22547', '22560', '22578', '22584', '22588', '22589', '22613', '22616', '22617', '22619', '22626', '22628', '22631', '22633', '22634', '22635', '22643', '22664', '22678', '22684', '22695', '22704', '22739', '22759', '22855', '22859', '22863', '22867', '22868', '22873', '22876', '22885', '22890', '22900', '22907', '22937', '22939', '22950', '22956', '22960', '22965', '22969', '22980', '23035', '23036', '23053', '23060', '23066', '23069', '23073', '23078', '23080', '23082', '23090', '23095', '23099', '23104', '23108', '23272', '23274', '23288', '23353', '23430', '23432', '23433', '23434', '23455', '23457', '23458', '23460', '23461', '23462', '23463', '23464', '23465', '23469', '23471', '23557', '23573', '23578', '23579', '23582', '23592', '23595', '23604', '23609', '23615', '23618', '23623', '23624', '23626', '23628', '23632', '23635', '23638', '23643', '23649', '23662', '23663', '23664', '23666', '23667', '23677', '23679', '23681', '23692', '23703', '23704', '23706', '23712', '23714', '23720', '23723', '23727', '23728', '23731', '23740', '23754', '23756', '23760', '23766', '23788', '23793', '23795', '23798', '23800', '23802', '23809', '23812', '23818', '23821', '23827', '23828', '23835', '23845', '23848', '23855', '23860', '23867', '23868', '23869', '23873', '23878', '23880', '23887', '23888', '23889', '23891', '23897', '23900', '23908', '23915', '23919', '23934', '23942', '23944', '23946', '23953', '23983', '23993', '23994', '23997', '24000', '24004', '24006', '24011', '24016', '24018', '24019', '24055', '24056', '24066', '24067', '24071', '24079', '24081', '24226', '24255', '24260', '2533274790425142', '2533274790425162', '2533274790426462', '2533274790427726', '2533274790431065', '2533274790431097', '2533274790431654', '2533274790431770', '2533274790432369', '2533274790432771', '2533274790432972', '2533274790437310', '2533274790437522', '2533274790437859', '2533274790438374', '2533274790439117', '2533274790439606', '2533274790451514', '2533274790456395', '2533274790457833', '2533274790458175', '2814749767106562', '2814749767106565', '2814749767106571', '2814749767106572', '2814749767106574', '2814749767106582', '2814749767106586', '2814749767106590', '2814749767106592', '2814749767106595', '2814749767106599', '2814749767106638', '2814749767106673', '2814749767106679', '2814749767106703', '2814749767106726', '2814749767106729', '2814749767106735', '2814749767106748', '2814749767106759', '2814749767106772', '2814749767106773', '2814749767106778', '2814749767106815', '2814749767106816', '2814749767106824', '2814749767106829', '2814749767106834', '2814749767106835', '2814749767106843', '2814749767106849', '2814749767106853', '2814749767106856', '2814749767106866', '2814749767106870', '2814749767106897', '2814749767106898', '2814749767106899', '2814749767106902', '2814749767106909', '2814749767106915', '2814749767106921', '2814749767106925', '2814749767106926', '2814749767106927', '503', '507', '525', '526', '527', '532', '539', '540', '541', '542', '543', '544', '547', '880', '889', '9860', '9865', '9870', '9873', '9874', '9876', '9879', '9886', '9891', '9917', '9928', '9936', '9939', '9940', '9952', '9963', '9964', '9967', '9973', '9983', '9987', '9989']\n",
    "\n",
    "remaining_NPC_names = [all_img_name for all_img_name in all_img_names if all_img_name not in ready2tag_img_names]\n",
    "print(\"remaining_NPC_names:\", len(remaining_NPC_names), remaining_NPC_names)"
   ]
  },
  {
   "cell_type": "markdown",
   "metadata": {},
   "source": [
    "## 4. 畸形过滤"
   ]
  },
  {
   "cell_type": "code",
   "execution_count": null,
   "metadata": {},
   "outputs": [],
   "source": [
    "# （用不着）\n",
    "# 用畸形率打分过滤生成好的图片，作为辛琪的下载审核方式的替代\n",
    "# 这是我自己写的，刘亚坤也写了一个，用他的吧\n",
    "import os\n",
    "import json\n",
    "\n",
    "def score_fn(image_path):\n",
    "    # \n",
    "    # \n",
    "    score = {\n",
    "        \"a_score\": 0.3,\n",
    "        \"final_score\": 0.6\n",
    "    }\n",
    "    return score\n",
    "\n",
    "image_root_dir = \"/dfs/comicai/chenyu.liu/ugc_generate_sample/output_images/ugc_NPC_images_5\"\n",
    "image_path_score_dict_path = \"image_path_score_dict.json\"\n",
    "image_path_score_dict = {}\n",
    "image_path_list_path = \"image_path_list.txt\"\n",
    "image_path_score_list = []\n",
    "\n",
    "NPC_names = sorted(os.listdir(image_root_dir))\n",
    "for NPC_name in NPC_names:\n",
    "    group_ids = [group_id for group_id in sorted(os.listdir(os.path.join(image_root_dir, NPC_name))) if group_id.split('.')[-1] != \"json\"]\n",
    "    for group_id in group_ids:\n",
    "        image_names = sorted(os.listdir(os.path.join(image_root_dir, NPC_name, group_id)))\n",
    "        for image_name in image_names:\n",
    "            image_path = os.path.join(image_root_dir, NPC_name, group_id, image_name)\n",
    "            score = score_fn(image_path)\n",
    "            if NPC_name not in image_path_score_dict:\n",
    "                image_path_score_dict[NPC_name] = {}\n",
    "            if group_id not in image_path_score_dict[NPC_name]:\n",
    "                image_path_score_dict[NPC_name][group_id] = {}\n",
    "            image_path_score_dict[NPC_name][group_id][image_path] = score\n",
    "            image_path_score_list.append([image_path, score[\"final_score\"]])\n",
    "            \n",
    "with open(image_path_score_dict_path, 'w', encoding='utf-8') as file:\n",
    "    file.write(json.dumps(image_path_score_dict, indent=4, ensure_ascii=False))\n",
    "\n",
    "image_path_score_list = sorted(image_path_score_list, key=lambda x: x[1])\n",
    "index_75_percent = int(len(image_path_score_list) * 0.75)\n",
    "image_path_score_list_75_percent = image_path_score_list[:index_75_percent]\n",
    "image_path_score_list_75_percent = [image_path[0] for image_path in image_path_score_list_75_percent]\n",
    "\n",
    "with open(image_path_list_path, \"w\") as file:\n",
    "    for item in image_path_score_list_75_percent:\n",
    "        file.write(item + '\\n')\n"
   ]
  },
  {
   "cell_type": "code",
   "execution_count": 1,
   "metadata": {},
   "outputs": [
    {
     "name": "stdout",
     "output_type": "stream",
     "text": [
      "img_name_list:  9000 ['chat_2_2533274790551820_9_0.png', 'chat_2_23945_15_0.png', 'chat_2_11691_1_0.png', 'chat_2_23945_16_2.png', 'chat_2_2814749767106780_22_1.png', 'chat_2_10610_25_3.png', 'chat_2_2533274790569910_19_0.png', 'chat_2_2814749767106950_11_3.png', 'chat_2_2533274790590400_9_0.png', 'chat_2_2533274790569910_9_3.png']\n",
      "img_name_list_75_percent:  ['chat_2_2533274790551820_9_0.png', 'chat_2_23945_15_0.png', 'chat_2_11691_1_0.png', 'chat_2_23945_16_2.png', 'chat_2_2814749767106780_22_1.png', 'chat_2_10610_25_3.png', 'chat_2_2533274790569910_19_0.png', 'chat_2_2814749767106950_11_3.png', 'chat_2_2533274790590400_9_0.png', 'chat_2_2533274790569910_9_3.png']\n",
      "NPC_titles:  1 ['chat']\n",
      "img_name_list_75_percent:  6750 ['chat_2_10012_0_1.png', 'chat_2_10012_0_2.png', 'chat_2_10012_0_3.png', 'chat_2_10012_10_0.png', 'chat_2_10012_10_1.png', 'chat_2_10012_10_2.png', 'chat_2_10012_10_3.png', 'chat_2_10012_11_0.png', 'chat_2_10012_11_2.png', 'chat_2_10012_11_3.png']\n"
     ]
    }
   ],
   "source": [
    "# 先拷贝到目录下\n",
    "# cp -r /dfs/comicai/yakun.liu/Linky/chat_images_2/chat_images_2_sort_files.txt /dfs/comicai/chenyu.liu/others/temp_files/deformapi_txt_yakunliu/\n",
    "# （chat）根据@yakun.liu生成的畸形率排序txt，挑选前一部分，放到json中\n",
    "import os\n",
    "import json\n",
    "\n",
    "# NPCs_folder_name = \"ugc_NPC_images\"\n",
    "# round_num = 1\n",
    "\n",
    "gen_class = \"chat\" # \"MGC\" \"wishwell\" \"chat\"\n",
    "round_num = 2\n",
    "input_img_folder_name = f\"{gen_class}_images_{round_num}\"\n",
    "\n",
    "NPC_titles = []\n",
    "img_name_list = []\n",
    "# webp_filter_list_path = f\"/dfs/comicai/chenyu.liu/ugc_generate_sample/configs/style_configs/{NPCs_folder_name}_deformapi_filter_list_{batch_num}.json\"\n",
    "# txt_path = f\"/dfs/comicai/chenyu.liu/others/temp_files/{NPCs_folder_name}_deformapi_txt_yakunliu/files_sorted_by_imgbadcase.txt\"\n",
    "webp_filter_list_path = f\"/dfs/comicai/chenyu.liu/ugc_generate_sample/configs/filter_jsons/{input_img_folder_name}_deformapi_filter_list.json\"\n",
    "txt_path = f\"/dfs/comicai/chenyu.liu/others/temp_files/deformapi_txt_yakunliu/{input_img_folder_name}_sort_files.txt\"\n",
    "with open(txt_path, 'r') as file:\n",
    "    for line in file:\n",
    "        image_path_on_Mac = line.strip()\n",
    "        img_name_list.append(image_path_on_Mac.split('/')[-1]) # .split('.')[0]+\".png\"\n",
    "        NPC_titles.append(image_path_on_Mac.split('/')[-1].split('_')[0])\n",
    "\n",
    "print(\"img_name_list: \", len(img_name_list), img_name_list[:10])\n",
    "index_75_percent = int(len(img_name_list) * 0.75)\n",
    "img_name_list_75_percent = img_name_list[:index_75_percent]\n",
    "print(\"img_name_list_75_percent: \", img_name_list_75_percent[:10])\n",
    "\n",
    "img_name_list_75_percent = sorted(img_name_list_75_percent)\n",
    "NPC_titles = sorted(list(set(NPC_titles)))\n",
    "print(\"NPC_titles: \", len(NPC_titles), NPC_titles)\n",
    "print(\"img_name_list_75_percent: \", len(img_name_list_75_percent), img_name_list_75_percent[:10])\n",
    "\n",
    "with open(webp_filter_list_path, 'w', newline='\\n') as json_file:\n",
    "    json.dump(img_name_list_75_percent, json_file, indent=2)\n",
    "\n",
    "# batch_num = 0\n",
    "# img_name_list:  170418 ['10002_28_2.png', '10006_36_0.png', '10084_19_1.png', '10431_41_0.png', '10462_0_0.png', '10523_14_3.png', '10523_46_2.png', '10606_11_0.png', '10641_0_3.png', '10793_22_0.png']\n",
    "# img_name_list_75_percent:  ['10002_28_2.png', '10006_36_0.png', '10084_19_1.png', '10431_41_0.png', '10462_0_0.png', '10523_14_3.png', '10523_46_2.png', '10606_11_0.png', '10641_0_3.png', '10793_22_0.png']\n",
    "# NPC_titles:  854 ['10002', '10003', '10006', '10015', '10020', '10022', '10030', '10039', '10044', '10049', '10063', '10071', '10077', '10082', '10084', '10093', '10098', '10099', '10122', '10126', '10131', '10136', '10142', '10169', '10174', '10179', '10180', '10196', \n",
    "# img_name_list_75_percent:  127813 ['10002_0_0.png', '10002_0_1.png',"
   ]
  },
  {
   "cell_type": "code",
   "execution_count": 3,
   "metadata": {},
   "outputs": [
    {
     "name": "stdout",
     "output_type": "stream",
     "text": [
      "img_name_list:  48240 ['wishwell_1_10349_6_1.png', 'wishwell_1_20780_23_6.png', 'wishwell_1_13834_8_5.png', 'wishwell_1_14337_27_0.png', 'wishwell_1_21014_6_5.png', 'wishwell_1_10379_21_7.png', 'wishwell_1_10071_10_5.png', 'wishwell_1_10071_23_3.png', 'wishwell_1_10071_6_2.png', 'wishwell_1_10044_0_4.png']\n",
      "img_name_list_75_percent:  ['wishwell_1_10349_6_1.png', 'wishwell_1_20780_23_6.png', 'wishwell_1_13834_8_5.png', 'wishwell_1_14337_27_0.png', 'wishwell_1_21014_6_5.png', 'wishwell_1_10379_21_7.png', 'wishwell_1_10071_10_5.png', 'wishwell_1_10071_23_3.png', 'wishwell_1_10071_6_2.png', 'wishwell_1_10044_0_4.png']\n",
      "NPC_titles:  1 ['wishwell']\n",
      "img_name_list_75_percent:  36180 ['wishwell_1_10030_0_4.png', 'wishwell_1_10030_0_7.png', 'wishwell_1_10030_10_0.png', 'wishwell_1_10030_10_5.png', 'wishwell_1_10030_10_7.png', 'wishwell_1_10030_11_0.png', 'wishwell_1_10030_11_6.png', 'wishwell_1_10030_12_0.png', 'wishwell_1_10030_12_1.png', 'wishwell_1_10030_12_2.png']\n"
     ]
    }
   ],
   "source": [
    "# （wishwell）根据@yakun.liu生成的畸形率排序txt，挑选前一部分，放到json中\n",
    "import os\n",
    "import json\n",
    "\n",
    "# NPCs_folder_name = \"wishwell_images\"\n",
    "# batch_num = 0\n",
    "\n",
    "gen_class = \"wishwell\" # \"MGC\" \"wishwell\" \"chat\"\n",
    "round_num = 1\n",
    "input_img_folder_name = f\"{gen_class}_images_{round_num}\"\n",
    "\n",
    "NPC_titles = []\n",
    "img_name_list = []\n",
    "# webp_filter_list_path = f\"/dfs/comicai/chenyu.liu/ugc_generate_sample/configs/style_configs/{NPCs_folder_name}_deformapi_filter_list_{batch_num}.json\"\n",
    "# txt_path = f\"/dfs/comicai/chenyu.liu/others/temp_files/{NPCs_folder_name}_deformapi_txt_yakunliu/wishwell_images_sort_files.txt\"\n",
    "webp_filter_list_path = f\"/dfs/comicai/chenyu.liu/ugc_generate_sample/configs/filter_jsons/{input_img_folder_name}_deformapi_filter_list.json\"\n",
    "txt_path = f\"/dfs/comicai/chenyu.liu/others/temp_files/deformapi_txt_yakunliu/{input_img_folder_name}_sort_files.txt\"\n",
    "\n",
    "with open(txt_path, 'r') as file:\n",
    "    for line in file:\n",
    "        image_path_on_Mac = line.strip()\n",
    "        img_name_list.append(image_path_on_Mac.split('/')[-1]) # .split('.')[0]+\".png\"\n",
    "        NPC_titles.append(image_path_on_Mac.split('/')[-1].split('_')[0])\n",
    "\n",
    "print(\"img_name_list: \", len(img_name_list), img_name_list[:10])\n",
    "index_75_percent = int(len(img_name_list) * 0.75)\n",
    "img_name_list_75_percent = img_name_list[:index_75_percent]\n",
    "print(\"img_name_list_75_percent: \", img_name_list_75_percent[:10])\n",
    "\n",
    "img_name_list_75_percent = sorted(img_name_list_75_percent)\n",
    "NPC_titles = sorted(list(set(NPC_titles)))\n",
    "print(\"NPC_titles: \", len(NPC_titles), NPC_titles)\n",
    "print(\"img_name_list_75_percent: \", len(img_name_list_75_percent), img_name_list_75_percent[:10])\n",
    "\n",
    "with open(webp_filter_list_path, 'w', newline='\\n') as json_file:\n",
    "    json.dump(img_name_list_75_percent, json_file, indent=2)\n",
    "\n",
    "# batch_num = 0\n",
    "# img_name_list:  120060 ['wishwell_12748_101_15.png', 'wishwell_12748_104_18.png', 'wishwell_12748_29_14.png', 'wishwell_10180_0_15.png', 'wishwell_10022_112_10.png', 'wishwell_10022_113_13.png', 'wishwell_12748_38_13.png', 'wishwell_10003_112_4.png', 'wishwell_12748_5_5.png', 'wishwell_10022_23_8.png']\n",
    "# img_name_list_75_percent:  ['wishwell_12748_101_15.png', 'wishwell_12748_104_18.png', 'wishwell_12748_29_14.png', 'wishwell_10180_0_15.png', 'wishwell_10022_112_10.png', 'wishwell_10022_113_13.png', 'wishwell_12748_38_13.png', 'wishwell_10003_112_4.png', 'wishwell_12748_5_5.png', 'wishwell_10022_23_8.png']\n",
    "# NPC_titles:  48 ['10003', '10022', '10077', '10180', '10241', '11499', '11587', '11654', '11678', '11680', '12560', '12748', '12777', '12979', '13386', '13433', '13450', '13490', '13531', '13860', '14134', '14288', '14358', '14388', '20930', '21171', '21414', '21738', '21873', '22342', '22441', '22956', '23410', '23461', '23462', '23465', '23579', '23618', '24071', '2814749767106565', '2814749767106572', '2814749767106590', '2814749767106773', '2814749767106815', '2814749767106835', '527', '544', '9939']\n",
    "# img_name_list_75_percent:  90045 ['wishwell_10003_0_1.png', 'wishwell_10003_0_10.png', 'wishwell_10003_0_12.png', 'wishwell_10003_0_13.png', 'wishwell_10003_0_14.png', 'wishwell_10003_0_15.png', 'wishwell_10003_0_16.png', 'wishwell_10003_0_17.png', 'wishwell_10003_0_2.png', 'wishwell_10003_0_3.png']"
   ]
  },
  {
   "cell_type": "code",
   "execution_count": null,
   "metadata": {},
   "outputs": [],
   "source": [
    "# （用不着）\n",
    "# （wishwell）查看挑好的图片 @qi.xin\n",
    "import os\n",
    "import json\n",
    "\n",
    "NPCs_folder_name = \"wishwell_images\"\n",
    "batch_num = 0\n",
    "\n",
    "NPC_titles = []\n",
    "img_name_list = []\n",
    "webp_filter_list_path = f\"/dfs/comicai/chenyu.liu/ugc_generate_sample/configs/style_configs/{NPCs_folder_name}_webp_filter_list_{batch_num}.json\"\n",
    "txt_path = '/dfs/comicai/chenyu.liu/others/temp_files/wishwell_images_webp_txt_qixin/wishwell_images_webp_10_filter.txt'\n",
    "with open(txt_path, 'r') as file:\n",
    "    for line in file:\n",
    "        image_path_on_Mac = line.strip()\n",
    "        img_name_list.append(image_path_on_Mac.split('/')[-1].split('.')[0]+\".png\")\n",
    "        NPC_titles.append(image_path_on_Mac.split('/')[-1].split('_')[1])\n",
    "img_name_list = sorted(img_name_list)\n",
    "NPC_titles = sorted(list(set(NPC_titles)))\n",
    "print(\"NPC_titles: \", len(NPC_titles), NPC_titles)\n",
    "print(\"img_name_list: \", len(img_name_list), img_name_list[:10])\n",
    "\n",
    "with open(webp_filter_list_path, 'w', newline='\\n') as json_file:\n",
    "    json.dump(img_name_list, json_file, indent=2)\n",
    "\n",
    "# batch_num = 0\n",
    "# names:  6 ['10003', '10022', '10077', '10180', '10241', '11587']\n",
    "# img_name_list:  10829 ['wishwell_10003_0_0.png', 'wishwell_10003_0_1.png', 'wishwell_10003_0_11.png', 'wishwell_10003_0_12.png', 'wishwell_10003_0_13.png', 'wishwell_10003_0_14.png', 'wishwell_10003_0_15.png', 'wishwell_10003_0_16.png', 'wishwell_10003_0_17.png', 'wishwell_10003_0_18.png']\n"
   ]
  },
  {
   "cell_type": "markdown",
   "metadata": {},
   "source": [
    "## 5. 黄图过滤"
   ]
  },
  {
   "cell_type": "code",
   "execution_count": null,
   "metadata": {},
   "outputs": [],
   "source": [
    "# 调用黄图片过滤服务nuddet，检测每张图片是否是黄图，存放到1.json\n",
    "# 在file_process.sh中运行\n",
    "\n",
    "#!/bin/bash\n",
    "\n",
    "# 定义图片文件夹路径\n",
    "img_root_dir=\"/dfs/comicai/chenyu.liu/ugc_generate_sample/output_images/chat_images_1\"\n",
    "last_part=$(basename \"$img_root_dir\")\n",
    "json_path=\"/dfs/comicai/chenyu.liu/others/${last_part}.json\"\n",
    "# 进入包含图片文件的文件夹\n",
    "cd \"$img_root_dir\" || exit\n",
    "\n",
    "# 创建一个空的关联数组来存储结果\n",
    "declare -A results\n",
    "\n",
    "\n",
    "# 获取子文件夹数量\n",
    "num_sub_folders=$(find \"$img_root_dir\"/* -maxdepth 0 -type d | wc -l)\n",
    "echo \"Number of sub folders: $num_sub_folders\"\n",
    "\n",
    "count=0\n",
    "# 遍历根文件夹中的每个子文件夹\n",
    "for sub_folder in \"$img_root_dir\"/*; do\n",
    "    \n",
    "    ((count++))\n",
    "    echo \"Count: $count/$num_sub_folders, Sub folder: $sub_folder\"\n",
    "\n",
    "    # # 使用 basename 获取子文件夹的名称作为索引或ID\n",
    "    # sub_folder_id=$(basename \"$sub_folder\")\n",
    "    # echo \"ID of sub folder: $sub_folder_id\"\n",
    "\n",
    "    # 检查是否是文件夹\n",
    "    if [ -d \"$sub_folder\" ]; then\n",
    "        # 进入子文件夹\n",
    "        cd \"$sub_folder\" || continue\n",
    "        # echo \"sub_folder: $sub_folder\"\n",
    "\n",
    "        for sub_sub_folder in \"$sub_folder\"/*; do\n",
    "            # 遍历子文件夹中的每个图片文件\n",
    "            if [ -d \"$sub_sub_folder\" ]; then\n",
    "                cd \"$sub_sub_folder\" || continue\n",
    "                # echo \"sub_sub_folder: $sub_sub_folder\"\n",
    "\n",
    "                for img_file in *.jpg *.jpeg *.png *.gif; do\n",
    "                    # 检查是否是图片文件\n",
    "                    if [ -f \"$img_file\" ]; then\n",
    "                        # 处理图片文件的逻辑\n",
    "                        img_file_path=\"$sub_sub_folder/$img_file\"\n",
    "                        # echo \"Processing image file: $img_file_path\"\n",
    "                        # 这里可以调用你的处理图片的脚本或命令\n",
    "                        result=$(bash /dfs/comicai/chenyu.liu/linky/as-loki/image_nuddet_server/my_call.sh \"$img_file_path\")\n",
    "                        results[\"$img_file_path\"]=$result\n",
    "                    fi\n",
    "                done\n",
    "            fi\n",
    "        done\n",
    "        \n",
    "        # 返回到根文件夹\n",
    "        cd \"$img_root_dir\" || exit\n",
    "    fi\n",
    "done\n",
    "\n",
    "\n",
    "# num_sub_folders=$(find \"$img_root_dir\"/* -maxdepth 0 -type d | wc -l)\n",
    "# echo \"Number of sub folders: $num_sub_folders\"\n",
    "num_keys=\"${#results[@]}\"\n",
    "\n",
    "count=0\n",
    "# 将结果写入 JSON 文件\n",
    "echo \"{\" > $json_path\n",
    "for id in \"${!results[@]}\"; do\n",
    "\n",
    "    ((count++))\n",
    "    echo \"Count: $count/$num_keys, id: $id\"\n",
    "\n",
    "    # echo \"Result for $id: ${results[$id]}\"\n",
    "    result_=\"${results[$id]}\"\n",
    "    # echo $result_\n",
    "    json_var=$(echo \"$result_\" | jq -r '.')\n",
    "    value=$(echo \"$json_var\" | jq -r '.[]')\n",
    "    # echo \"Value: $value\"\n",
    "    echo \"\\\"$id\\\": \\\"${value}\\\",\" >> $json_path\n",
    "done\n",
    "echo \"}\" >> $json_path\n"
   ]
  },
  {
   "cell_type": "markdown",
   "metadata": {},
   "source": [
    "手动删除1.json最后一行的','"
   ]
  },
  {
   "cell_type": "code",
   "execution_count": null,
   "metadata": {},
   "outputs": [],
   "source": [
    "# 对1.json的键值进行排序，存放到1_tmp.json中\n",
    "# 在root中 file_process.sh中运行\n",
    "\n",
    "#!/bin/bash\n",
    "img_root_dir=\"/dfs/comicai/chenyu.liu/ugc_generate_sample/output_images/chat_images_1\"\n",
    "last_part=$(basename \"$img_root_dir\")\n",
    "echo $last_part\n",
    "json_path=\"/dfs/comicai/chenyu.liu/others/${last_part}.json\"\n",
    "tmp_json_path=\"/dfs/comicai/chenyu.liu/others/${last_part}_tmp.json\"\n",
    "jq -S '.' $json_path > $tmp_json_path\n",
    "# mv $tmp_json_path $json_path"
   ]
  },
  {
   "cell_type": "markdown",
   "metadata": {},
   "source": [
    "## 匹配两个过滤文件"
   ]
  },
  {
   "cell_type": "code",
   "execution_count": null,
   "metadata": {},
   "outputs": [],
   "source": []
  },
  {
   "cell_type": "markdown",
   "metadata": {},
   "source": [
    "## 6. 返回xlsx结果"
   ]
  },
  {
   "cell_type": "code",
   "execution_count": 2,
   "metadata": {},
   "outputs": [
    {
     "name": "stderr",
     "output_type": "stream",
     "text": [
      "1000it [00:00, 107469.10it/s]\n"
     ]
    }
   ],
   "source": [
    "# （MGC）对于MGC生成好的图片，组合MGC的NPC_ID和id生成url，存到xlsx文件，给到MGC\n",
    "\n",
    "from openpyxl import Workbook\n",
    "import json\n",
    "from tqdm import tqdm\n",
    "\n",
    "gen_class = \"MGC\" # \"MGC\" \"wishwell\" \"chat\"\n",
    "round_num = 1\n",
    "input_img_folder_name = f\"{gen_class}_images_{round_num}\"\n",
    "group = 4\n",
    "img = 2\n",
    "\n",
    "# 创建一个Workbook对象\n",
    "wb = Workbook()\n",
    "\n",
    "# 选择默认的工作表\n",
    "ws = wb.active\n",
    "\n",
    "NPC_ID_path = f\"/dfs/comicai/chenyu.liu/ugc_generate_sample/configs/input_jsons/{input_img_folder_name}_style_dict.json\" # \"/dfs/comicai/chenyu.liu/ugc_generate_sample/configs/style_configs/MGC_images_style_dict.json\"\n",
    "with open(NPC_ID_path, 'r') as f:\n",
    "    NPC_ID_dict = json.load(f)\n",
    "\n",
    "NPC_IDs = sorted(list(NPC_ID_dict.keys()))\n",
    "NPC_num = len(list(NPC_ID_dict.keys()))\n",
    "\n",
    "data = [\n",
    "    # [\"ID\", \"url0\", \"url1\", \"url2\", \"url3\", \"url4\", \"url5\", \"url6\", \"url7\"]\n",
    "    [\"ID\"] + [f\"url{i}\" for i in range(group * img)]\n",
    "]\n",
    "\n",
    "for i, NPC_ID in tqdm(enumerate(NPC_IDs)):\n",
    "    data_ = [NPC_ID]\n",
    "    for group_ in range(group):\n",
    "        for img_ in range(img):\n",
    "            data_.append(f\"https://us-aisocial.oss-accelerate.aliyuncs.com/imggen_ugc/{gen_class}_{round_num}_{NPC_ID}_{group_}_{img_}.png\")\n",
    "    data.append(data_)\n",
    "\n",
    "for row in data:\n",
    "    ws.append(row)\n",
    "\n",
    "wb.save(f\"temp_files/{input_img_folder_name}_{NPC_num}*{group}*{img}.xlsx\")\n"
   ]
  }
 ],
 "metadata": {
  "kernelspec": {
   "display_name": "comic",
   "language": "python",
   "name": "python3"
  },
  "language_info": {
   "codemirror_mode": {
    "name": "ipython",
    "version": 3
   },
   "file_extension": ".py",
   "mimetype": "text/x-python",
   "name": "python",
   "nbconvert_exporter": "python",
   "pygments_lexer": "ipython3",
   "version": "3.8.18"
  }
 },
 "nbformat": 4,
 "nbformat_minor": 2
}
